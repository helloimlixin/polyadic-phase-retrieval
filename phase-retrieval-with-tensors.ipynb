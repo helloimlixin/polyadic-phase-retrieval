{
 "metadata": {
  "orig_nbformat": 2,
  "kernelspec": {
   "name": "python3",
   "display_name": "Python 3.8.10 64-bit"
  },
  "interpreter": {
   "hash": "31f2aee4e71d21fbe5cf8b01ff0e069b9275f58929596ceb00d14d90e3e16cd6"
  },
  "language_info": {
   "name": "python",
   "version": "3.6.9",
   "mimetype": "text/x-python",
   "codemirror_mode": {
    "name": "ipython",
    "version": 3
   },
   "pygments_lexer": "ipython3",
   "nbconvert_exporter": "python",
   "file_extension": ".py"
  }
 },
 "nbformat": 4,
 "nbformat_minor": 2,
 "cells": [
  {
   "cell_type": "markdown",
   "source": [
    "# Computational Phase Retrieval with Tensor Methods"
   ],
   "metadata": {}
  },
  {
   "cell_type": "markdown",
   "source": [
    "## Device Information"
   ],
   "metadata": {}
  },
  {
   "cell_type": "code",
   "execution_count": 1,
   "source": [
    "!nvidia-smi"
   ],
   "outputs": [
    {
     "output_type": "stream",
     "name": "stdout",
     "text": [
      "Wed Jul 21 10:51:44 2021       \n",
      "+-----------------------------------------------------------------------------+\n",
      "| NVIDIA-SMI 460.80       Driver Version: 460.80       CUDA Version: 11.2     |\n",
      "|-------------------------------+----------------------+----------------------+\n",
      "| GPU  Name        Persistence-M| Bus-Id        Disp.A | Volatile Uncorr. ECC |\n",
      "| Fan  Temp  Perf  Pwr:Usage/Cap|         Memory-Usage | GPU-Util  Compute M. |\n",
      "|                               |                      |               MIG M. |\n",
      "|===============================+======================+======================|\n",
      "|   0  GeForce GTX 165...  Off  | 00000000:01:00.0 Off |                  N/A |\n",
      "| N/A   54C    P8     6W /  N/A |    371MiB /  3911MiB |     29%      Default |\n",
      "|                               |                      |                  N/A |\n",
      "+-------------------------------+----------------------+----------------------+\n",
      "                                                                               \n",
      "+-----------------------------------------------------------------------------+\n",
      "| Processes:                                                                  |\n",
      "|  GPU   GI   CI        PID   Type   Process name                  GPU Memory |\n",
      "|        ID   ID                                                   Usage      |\n",
      "|=============================================================================|\n",
      "+-----------------------------------------------------------------------------+\n"
     ]
    }
   ],
   "metadata": {}
  },
  {
   "cell_type": "markdown",
   "source": [
    "## Import Required Libraries"
   ],
   "metadata": {}
  },
  {
   "cell_type": "code",
   "execution_count": 2,
   "source": [
    "import tensorflow as tf\n",
    "print(f\"Tensorflow version: {tf.__version__}\")\n",
    "\n",
    "import tensorflow as tf\n",
    "\n",
    "gpus = tf.config.list_physical_devices('GPU')\n",
    "\n",
    "if gpus:\n",
    "    try:\n",
    "        print(\"Num GPUs Available: \", len(gpus))\n",
    "        for gpu in gpus:\n",
    "            # Allow memory growth for the GPU.\n",
    "            # Reference: https://www.tensorflow.org/guide/gpu\n",
    "            tf.config.experimental.set_memory_growth(gpu, True)\n",
    "        logical_gpus = tf.config.experimental.list_logical_devices('GPU')\n",
    "        print(len(gpus), \"Physical GPUs,\", len(logical_gpus), \"Logical GPUs\")\n",
    "    except RuntimeError as e:\n",
    "        # Memory growth must be set before GPUs have been initialized.\n",
    "        print(e)\n",
    "\n",
    "from matplotlib import pyplot as plt\n",
    "plt.style.use('dark_background')\n",
    "import numpy as np\n",
    "import tensorly as tl\n",
    "tl.set_backend('tensorflow')\n",
    "import cv2\n",
    "import time\n",
    "import os\n",
    "from PIL import Image\n",
    "\n",
    "import matplotlib.cm as cm\n",
    "import seaborn as sns\n",
    "\n",
    "from matplotlib import rc, rcParams\n",
    "rcParams['font.family'] = 'Cubano'\n",
    "rc('text', usetex=False)\n",
    "\n",
    "import warnings\n",
    "from numba import jit, njit, prange\n",
    "from scipy.optimize import minimize\n",
    "import functools\n"
   ],
   "outputs": [
    {
     "output_type": "stream",
     "name": "stdout",
     "text": [
      "Tensorflow version: 2.5.0\n",
      "Num GPUs Available:  1\n",
      "1 Physical GPUs, 1 Logical GPUs\n"
     ]
    }
   ],
   "metadata": {}
  },
  {
   "cell_type": "markdown",
   "source": [
    "## GPU Benchmark\n",
    "\n",
    "Run preliminarily to avoid cold-start.\n",
    "\n",
    "Reference: https://www.tensorflow.org/guide/gpu"
   ],
   "metadata": {}
  },
  {
   "cell_type": "code",
   "execution_count": 3,
   "source": [
    "tf.debugging.set_log_device_placement(True)\n",
    "\n",
    "n = 1000\n",
    "num_iters = 10\n",
    "\n",
    "'''\n",
    "Test with TensorFlow GPU.\n",
    "'''\n",
    "start_tf = time.time()\n",
    "\n",
    "for i in range(num_iters):\n",
    "    # Tensors are defaultly placed on the GPU (CPU would be considerably \n",
    "    # slower due to the incurred communication cost).\n",
    "    a = tf.ones((n, n))\n",
    "    b = tf.ones((n, n))\n",
    "\n",
    "    # Run on the GPU\n",
    "    c = tf.matmul(a, b)\n",
    "\n",
    "print(f'Elapsed time with TensorFlow GPU: {time.time() - start_tf}')\n",
    "\n",
    "'''\n",
    "Test with Numpy.\n",
    "'''\n",
    "start_np = time.time()\n",
    "\n",
    "for i in range(num_iters):\n",
    "    a = np.ones((n, n))\n",
    "    b = np.ones((n, n))\n",
    "\n",
    "    c = np.dot(a, b)\n",
    "\n",
    "print(f'Elapsed time with Numpy: {time.time() - start_np}') # CAN BE SLOW\n"
   ],
   "outputs": [
    {
     "output_type": "stream",
     "name": "stdout",
     "text": [
      "Elapsed time with TensorFlow GPU: 0.5565686225891113\n",
      "Elapsed time with Numpy: 0.2522139549255371\n"
     ]
    }
   ],
   "metadata": {}
  },
  {
   "cell_type": "markdown",
   "source": [
    "## Low Rank Phase Retrieval\n",
    "\n",
    "References:\n",
    "\n",
    "\\[1\\] Namrata Vaswani, Seyedehsara Nayer, Yonina C. Eldar. *Low Rank Phase Retrieval*. https://rutgers.box.com/s/dntl0sh157p62rgi1zerdaxrqthugr32\n",
    "\n",
    "\\[2\\] Namrata Vaswani. *Nonconvex Structured Phase Retrieval*. https://rutgers.box.com/s/x02w8frd1ep01cxdjlnojufa9npvstsz.\n",
    "\n",
    "\\[3\\] Tamara G. Kolda, Brett W. Bader. *Tensor Decompositions and Applications*. https://rutgers.box.com/s/aq9psx3mgwhms6rrzlhn94h56c3oshox. \n",
    "\n",
    "\n"
   ],
   "metadata": {}
  },
  {
   "cell_type": "markdown",
   "source": [
    "### Define Data Directories"
   ],
   "metadata": {}
  },
  {
   "cell_type": "code",
   "execution_count": 4,
   "source": [
    "INPUT_DIR = './videos/' # directory of the test videos\n",
    "OUTPUT_DIR = './output/' # output directory\n",
    "FRAMES_DIR = './ouput/frames/' # output directory of the extracted video frames "
   ],
   "outputs": [],
   "metadata": {}
  },
  {
   "cell_type": "markdown",
   "source": [
    "### Load the Test Video"
   ],
   "metadata": {}
  },
  {
   "cell_type": "code",
   "execution_count": 5,
   "source": [
    "# Read the video.\n",
    "video_path = INPUT_DIR + os.listdir(INPUT_DIR)[0] # define video path\n",
    "cap = cv2.VideoCapture(video_path) # read the video from path\n",
    "video_name = os.listdir(INPUT_DIR)[0].split('.')[0] # get the name of the video\n",
    "\n",
    "# Creat the folder to store the extracted frames of the video.\n",
    "try:\n",
    "    if not os.path.exists(FRAMES_DIR + video_name):\n",
    "        os.makedirs(FRAMES_DIR + video_name)\n",
    "    else:\n",
    "        print('Directory already exists!')\n",
    "except OSError:\n",
    "    print('OS ERROR')\n",
    "\n",
    "k = 0 # frame number, k = 0, 1, 2, ..., q - 1\n",
    "Xlist = []\n",
    "Rhat = 0\n",
    "while (True):\n",
    "    # Capture the video frame-by-frame.\n",
    "    # Code adopted: https://docs.opencv.org/3.4/dd/d43\n",
    "    # tutorial_py_video_display.html\n",
    "    ret, frame = cap.read()\n",
    "\n",
    "    # If the frame is read correctly the return boolean (ret) is true.\n",
    "    if not ret:\n",
    "        print(\"Cannot receive frame (probably end of stream). Exiting...\")\n",
    "        break\n",
    "    else:\n",
    "        # Convert the frame to grayscale.\n",
    "        gray_frame_original = cv2.cvtColor(frame, cv2.COLOR_BGR2GRAY)\n",
    "        scale = 0.025\n",
    "        width = int(gray_frame_original.shape[1] * scale)\n",
    "        height = int(gray_frame_original.shape[0] * scale)\n",
    "        gray_frame = cv2.resize(gray_frame_original, (width, height))\n",
    "        name = FRAMES_DIR + video_name + '/frame-' + str(k) + '.jpg'\n",
    "        print('DEBUG: Captured...' + name)\n",
    "        svds = np.linalg.svd(gray_frame)[1]\n",
    "        max_svd, min_svd = np.max(svds), np.min(svds)\n",
    "        normalized_svds = svds / (max_svd - min_svd)\n",
    "        Rhat += np.sum(normalized_svds > 0.1)\n",
    "        cv2.imwrite(name, gray_frame)\n",
    "\n",
    "        # plt.plot(range(480), normalized_svds)\n",
    "        # plt.show()\n",
    "        \n",
    "        Xlist.append(gray_frame)\n",
    "\n",
    "        k += 1\n",
    "Rhat = Rhat // k + 1\n",
    "print('Approximate rank of each frame: ', Rhat)\n",
    "\n",
    "# Release the capture when finished.\n",
    "cap.release()\n",
    "cv2.destroyAllWindows()"
   ],
   "outputs": [
    {
     "output_type": "stream",
     "name": "stdout",
     "text": [
      "Directory already exists!\n",
      "DEBUG: Captured..../ouput/frames/sara/frame-0.jpg\n",
      "DEBUG: Captured..../ouput/frames/sara/frame-1.jpg\n",
      "DEBUG: Captured..../ouput/frames/sara/frame-2.jpg\n",
      "DEBUG: Captured..../ouput/frames/sara/frame-3.jpg\n",
      "DEBUG: Captured..../ouput/frames/sara/frame-4.jpg\n",
      "DEBUG: Captured..../ouput/frames/sara/frame-5.jpg\n",
      "DEBUG: Captured..../ouput/frames/sara/frame-6.jpg\n",
      "DEBUG: Captured..../ouput/frames/sara/frame-7.jpg\n",
      "DEBUG: Captured..../ouput/frames/sara/frame-8.jpg\n",
      "DEBUG: Captured..../ouput/frames/sara/frame-9.jpg\n",
      "DEBUG: Captured..../ouput/frames/sara/frame-10.jpg\n",
      "DEBUG: Captured..../ouput/frames/sara/frame-11.jpg\n",
      "DEBUG: Captured..../ouput/frames/sara/frame-12.jpg\n",
      "DEBUG: Captured..../ouput/frames/sara/frame-13.jpg\n",
      "DEBUG: Captured..../ouput/frames/sara/frame-14.jpg\n",
      "DEBUG: Captured..../ouput/frames/sara/frame-15.jpg\n",
      "DEBUG: Captured..../ouput/frames/sara/frame-16.jpg\n",
      "DEBUG: Captured..../ouput/frames/sara/frame-17.jpg\n",
      "DEBUG: Captured..../ouput/frames/sara/frame-18.jpg\n",
      "DEBUG: Captured..../ouput/frames/sara/frame-19.jpg\n",
      "DEBUG: Captured..../ouput/frames/sara/frame-20.jpg\n",
      "DEBUG: Captured..../ouput/frames/sara/frame-21.jpg\n",
      "DEBUG: Captured..../ouput/frames/sara/frame-22.jpg\n",
      "DEBUG: Captured..../ouput/frames/sara/frame-23.jpg\n",
      "DEBUG: Captured..../ouput/frames/sara/frame-24.jpg\n",
      "DEBUG: Captured..../ouput/frames/sara/frame-25.jpg\n",
      "DEBUG: Captured..../ouput/frames/sara/frame-26.jpg\n",
      "DEBUG: Captured..../ouput/frames/sara/frame-27.jpg\n",
      "DEBUG: Captured..../ouput/frames/sara/frame-28.jpg\n",
      "DEBUG: Captured..../ouput/frames/sara/frame-29.jpg\n",
      "DEBUG: Captured..../ouput/frames/sara/frame-30.jpg\n",
      "DEBUG: Captured..../ouput/frames/sara/frame-31.jpg\n",
      "DEBUG: Captured..../ouput/frames/sara/frame-32.jpg\n",
      "DEBUG: Captured..../ouput/frames/sara/frame-33.jpg\n",
      "DEBUG: Captured..../ouput/frames/sara/frame-34.jpg\n",
      "DEBUG: Captured..../ouput/frames/sara/frame-35.jpg\n",
      "DEBUG: Captured..../ouput/frames/sara/frame-36.jpg\n",
      "DEBUG: Captured..../ouput/frames/sara/frame-37.jpg\n",
      "DEBUG: Captured..../ouput/frames/sara/frame-38.jpg\n",
      "DEBUG: Captured..../ouput/frames/sara/frame-39.jpg\n",
      "DEBUG: Captured..../ouput/frames/sara/frame-40.jpg\n",
      "DEBUG: Captured..../ouput/frames/sara/frame-41.jpg\n",
      "DEBUG: Captured..../ouput/frames/sara/frame-42.jpg\n",
      "DEBUG: Captured..../ouput/frames/sara/frame-43.jpg\n",
      "DEBUG: Captured..../ouput/frames/sara/frame-44.jpg\n",
      "DEBUG: Captured..../ouput/frames/sara/frame-45.jpg\n",
      "DEBUG: Captured..../ouput/frames/sara/frame-46.jpg\n",
      "DEBUG: Captured..../ouput/frames/sara/frame-47.jpg\n",
      "DEBUG: Captured..../ouput/frames/sara/frame-48.jpg\n",
      "DEBUG: Captured..../ouput/frames/sara/frame-49.jpg\n",
      "DEBUG: Captured..../ouput/frames/sara/frame-50.jpg\n",
      "DEBUG: Captured..../ouput/frames/sara/frame-51.jpg\n",
      "DEBUG: Captured..../ouput/frames/sara/frame-52.jpg\n",
      "DEBUG: Captured..../ouput/frames/sara/frame-53.jpg\n",
      "DEBUG: Captured..../ouput/frames/sara/frame-54.jpg\n",
      "DEBUG: Captured..../ouput/frames/sara/frame-55.jpg\n",
      "DEBUG: Captured..../ouput/frames/sara/frame-56.jpg\n",
      "DEBUG: Captured..../ouput/frames/sara/frame-57.jpg\n",
      "DEBUG: Captured..../ouput/frames/sara/frame-58.jpg\n",
      "DEBUG: Captured..../ouput/frames/sara/frame-59.jpg\n",
      "DEBUG: Captured..../ouput/frames/sara/frame-60.jpg\n",
      "DEBUG: Captured..../ouput/frames/sara/frame-61.jpg\n",
      "DEBUG: Captured..../ouput/frames/sara/frame-62.jpg\n",
      "DEBUG: Captured..../ouput/frames/sara/frame-63.jpg\n",
      "DEBUG: Captured..../ouput/frames/sara/frame-64.jpg\n",
      "DEBUG: Captured..../ouput/frames/sara/frame-65.jpg\n",
      "DEBUG: Captured..../ouput/frames/sara/frame-66.jpg\n",
      "DEBUG: Captured..../ouput/frames/sara/frame-67.jpg\n",
      "DEBUG: Captured..../ouput/frames/sara/frame-68.jpg\n",
      "DEBUG: Captured..../ouput/frames/sara/frame-69.jpg\n",
      "DEBUG: Captured..../ouput/frames/sara/frame-70.jpg\n",
      "DEBUG: Captured..../ouput/frames/sara/frame-71.jpg\n",
      "DEBUG: Captured..../ouput/frames/sara/frame-72.jpg\n",
      "DEBUG: Captured..../ouput/frames/sara/frame-73.jpg\n",
      "DEBUG: Captured..../ouput/frames/sara/frame-74.jpg\n",
      "DEBUG: Captured..../ouput/frames/sara/frame-75.jpg\n",
      "DEBUG: Captured..../ouput/frames/sara/frame-76.jpg\n",
      "DEBUG: Captured..../ouput/frames/sara/frame-77.jpg\n",
      "DEBUG: Captured..../ouput/frames/sara/frame-78.jpg\n",
      "DEBUG: Captured..../ouput/frames/sara/frame-79.jpg\n",
      "DEBUG: Captured..../ouput/frames/sara/frame-80.jpg\n",
      "DEBUG: Captured..../ouput/frames/sara/frame-81.jpg\n",
      "DEBUG: Captured..../ouput/frames/sara/frame-82.jpg\n",
      "DEBUG: Captured..../ouput/frames/sara/frame-83.jpg\n",
      "DEBUG: Captured..../ouput/frames/sara/frame-84.jpg\n",
      "DEBUG: Captured..../ouput/frames/sara/frame-85.jpg\n",
      "DEBUG: Captured..../ouput/frames/sara/frame-86.jpg\n",
      "DEBUG: Captured..../ouput/frames/sara/frame-87.jpg\n",
      "DEBUG: Captured..../ouput/frames/sara/frame-88.jpg\n",
      "DEBUG: Captured..../ouput/frames/sara/frame-89.jpg\n",
      "DEBUG: Captured..../ouput/frames/sara/frame-90.jpg\n",
      "DEBUG: Captured..../ouput/frames/sara/frame-91.jpg\n",
      "DEBUG: Captured..../ouput/frames/sara/frame-92.jpg\n",
      "DEBUG: Captured..../ouput/frames/sara/frame-93.jpg\n",
      "DEBUG: Captured..../ouput/frames/sara/frame-94.jpg\n",
      "DEBUG: Captured..../ouput/frames/sara/frame-95.jpg\n",
      "DEBUG: Captured..../ouput/frames/sara/frame-96.jpg\n",
      "DEBUG: Captured..../ouput/frames/sara/frame-97.jpg\n",
      "DEBUG: Captured..../ouput/frames/sara/frame-98.jpg\n",
      "DEBUG: Captured..../ouput/frames/sara/frame-99.jpg\n",
      "DEBUG: Captured..../ouput/frames/sara/frame-100.jpg\n",
      "DEBUG: Captured..../ouput/frames/sara/frame-101.jpg\n",
      "DEBUG: Captured..../ouput/frames/sara/frame-102.jpg\n",
      "DEBUG: Captured..../ouput/frames/sara/frame-103.jpg\n",
      "DEBUG: Captured..../ouput/frames/sara/frame-104.jpg\n",
      "Cannot receive frame (probably end of stream). Exiting...\n",
      "Approximate rank of each frame:  3\n"
     ]
    }
   ],
   "metadata": {
    "tags": []
   }
  },
  {
   "cell_type": "markdown",
   "source": [
    "### Create the true signal tensor.\n",
    "\n",
    "Tensors are multi-dimensional arrays with a uniform type (`dtype`). All tensors are immutable like Python numbers and strings: you can never update the contents of a tensor, only create a new one.\n",
    "\n",
    "**Note**: In libraries like tensorflow, the rank of the tensor actually denotes the order of the tensor in our convention. We call the `rank` of a tensor in a similar manner as the rank of a matrix.\n",
    "\n",
    "The gray-scaled signal is modeled as a three-ordered tensor $\\boldsymbol{\\mathcal{X}} \\in \\mathbb{R}^{I_1 \\times I_2 \\times q}$, where $I_1 \\times I_2$ correspond to the pixel coordinates within each frame and $q$ is the total number of frames captured.\n",
    "\n",
    "**Signal Dimension**"
   ],
   "metadata": {}
  },
  {
   "cell_type": "code",
   "execution_count": 6,
   "source": [
    "Xast = tf.constant(Xlist[:10], tf.float32)\n",
    "q, I1, I2 = Xast.shape\n",
    "Xast = tf.reshape(Xast, [I1, I2, q])\n",
    "print(f'The dimension of the true signal tensor: I1 x I2 x q: {I1} x {I2} x {q}')\n",
    "print(f'Sample complexity for rank {Rhat}: O({(q + I1 + I2) * Rhat})')"
   ],
   "outputs": [
    {
     "output_type": "stream",
     "name": "stdout",
     "text": [
      "The dimension of the true signal tensor: I1 x I2 x q: 12 x 16 x 10\n",
      "Sample complexity for rank 3: O(114)\n"
     ]
    }
   ],
   "metadata": {}
  },
  {
   "cell_type": "markdown",
   "source": [
    "### Generate Phaseless Measurements"
   ],
   "metadata": {}
  },
  {
   "cell_type": "code",
   "execution_count": 7,
   "source": [
    "def initialize_zeros(dim):\n",
    "    initializer = tf.zeros_initializer()\n",
    "    return tf.Variable(initializer(shape=dim, dtype=tf.float32))"
   ],
   "outputs": [],
   "metadata": {}
  },
  {
   "cell_type": "code",
   "execution_count": 105,
   "source": [
    "def generate_measurements(m, I1, I2, q):\n",
    "    A = initialize_zeros([m, I1, I2, q]) # measurement tensor\n",
    "\n",
    "    # Generate i.i.d. measurement tensors.\n",
    "    for j in range(m):\n",
    "        for k in range(q):\n",
    "            # i.i.d. normal measurements from the independent number stream\n",
    "            A[j,:,:,k].assign(tf.random.normal([I1, I2]))\n",
    "    \n",
    "    return A\n",
    "\n",
    "start = time.time()\n",
    "m = 2000\n",
    "A = generate_measurements(m, I1, I2, q)\n",
    "print(f'Elapsed time: {time.time() - start} seconds.')"
   ],
   "outputs": [
    {
     "output_type": "stream",
     "name": "stdout",
     "text": [
      "Elapsed time: 8.09940505027771 seconds.\n"
     ]
    }
   ],
   "metadata": {
    "tags": []
   }
  },
  {
   "cell_type": "code",
   "execution_count": 186,
   "source": [
    "# Generate phaseless measurements.\n",
    "Ylist = []\n",
    "norm_Xast = np.zeros(q)\n",
    "for k in range(q):\n",
    "    # Normalize the true signal tensor with Frobenius norm.\n",
    "    normalized_Xast, norm_Xast[k] = tf.linalg.normalize(Xast[:,:,k], ord='fro', axis=[0, 1])\n",
    "    Ylist.append(tf.tensordot(A[:,:,:,k], normalized_Xast, axes=([1, 2], [0, 1])))\n",
    "\n",
    "Y = tf.Variable(tf.reshape(tf.convert_to_tensor(Ylist), [m, q]))\n",
    "print(Y.shape)"
   ],
   "outputs": [
    {
     "output_type": "stream",
     "name": "stdout",
     "text": [
      "(2000, 10)\n"
     ]
    }
   ],
   "metadata": {
    "tags": []
   }
  },
  {
   "cell_type": "code",
   "execution_count": 187,
   "source": [
    "normalized_Xast = []\n",
    "\n",
    "for k in range(q):\n",
    "    normalized_Xast.append(\n",
    "        tf.linalg.normalize(Xast[:, :, k], ord='fro', axis=[0, 1])[0])\n",
    "\n",
    "normalized_Xast = tf.reshape(tf.convert_to_tensor(normalized_Xast), [I1, I2, q])"
   ],
   "outputs": [],
   "metadata": {}
  },
  {
   "cell_type": "code",
   "execution_count": 164,
   "source": [
    "print('DEBUG')\n",
    "print(f'\\nDimension of the phaseless measurement matrix: m x q: {Y.shape[0]} x {Y.shape[1]}\\n')\n",
    "print('Phaseless Measurements:\\n\\n', Y)"
   ],
   "outputs": [
    {
     "output_type": "stream",
     "name": "stdout",
     "text": [
      "DEBUG\n",
      "\n",
      "Dimension of the phaseless measurement matrix: m x q: 2000 x 10\n",
      "\n",
      "Phaseless Measurements:\n",
      "\n",
      " <tf.Variable 'Variable:0' shape=(2000, 10) dtype=float32, numpy=\n",
      "array([[ 1.5791903 ,  0.38102975,  1.0224886 , ...,  0.11788388,\n",
      "        -0.29409528, -0.61786246],\n",
      "       [ 0.00589414, -1.1163954 ,  0.04100949, ..., -1.5504133 ,\n",
      "         0.13826028,  0.17291625],\n",
      "       [ 0.04688909, -1.1329834 ,  0.04359484, ..., -0.32971036,\n",
      "        -1.8338269 ,  1.5970807 ],\n",
      "       ...,\n",
      "       [ 0.4717165 , -0.0213601 ,  0.02643208, ..., -1.2272183 ,\n",
      "        -1.1678846 ,  0.99522233],\n",
      "       [-0.30425173,  0.39448565,  0.35149154, ..., -1.8118185 ,\n",
      "         0.2547682 ,  1.1109474 ],\n",
      "       [-2.2094855 , -1.2277896 , -0.54841995, ..., -0.5427096 ,\n",
      "         0.687298  , -1.7021607 ]], dtype=float32)>\n"
     ]
    }
   ],
   "metadata": {}
  },
  {
   "cell_type": "code",
   "execution_count": 165,
   "source": [
    "def initialize(I1, I2, q, R):\n",
    "    \"\"\"Initialize factor matrices.\"\"\"\n",
    "\n",
    "    U1 = tf.Variable(tf.random.normal([I1, R]))\n",
    "    U2 = tf.Variable(tf.random.normal([I2, R]))\n",
    "    B = tf.Variable(tf.random.normal([q, R]))\n",
    "\n",
    "    return [U1, U2], B"
   ],
   "outputs": [],
   "metadata": {}
  },
  {
   "cell_type": "code",
   "execution_count": 166,
   "source": [
    "def kruskal(U, B, R, Lambda=None, type='CP'):\n",
    "    \"\"\"Construct Tensor from Kruskal Formulation.\n",
    "\n",
    "        Args:\n",
    "            U: list consisting of two factor matrices U1 (I1 x R)\n",
    "                and U2 (I2 x R) for the three-way case.\n",
    "            B: the B (q x R) factor matrix.\n",
    "            R: assumped rank (a scalar) of the low-rank tensor.\n",
    "            Lambda: normalization factors (length R).\n",
    "        \n",
    "        Returns:\n",
    "            Xhat: signal estimate (I1 x I2 x q).\n",
    "    \"\"\"\n",
    "    warnings.filterwarnings(\"ignore\", category=RuntimeWarning)\n",
    "\n",
    "    if type == 'CP':\n",
    "        U1, U2 = U[0], U[1]\n",
    "        I1, I2, q = U1.shape[0], U2.shape[0], B.shape[0]\n",
    "        Xhat = tf.zeros([I1, I2, q])\n",
    "        if Lambda is None:\n",
    "            Lambda = tf.ones([R,])\n",
    "        for r in range(R):\n",
    "            U1U2 = tf.tensordot(U1[:, r], U2[:, r], axes=0)\n",
    "            Xhat += Lambda[r] * tf.tensordot(U1U2, B[:, r], axes=0)\n",
    "        \n",
    "        return Xhat\n",
    "    else:\n",
    "        return None"
   ],
   "outputs": [],
   "metadata": {}
  },
  {
   "cell_type": "code",
   "execution_count": 167,
   "source": [
    "def test_kruskal():\n",
    "    warnings.filterwarnings(\"ignore\", category=UserWarning)\n",
    "\n",
    "    from tensorly.decomposition import parafac\n",
    "\n",
    "    X = tl.tensor(np.arange(24).reshape((3, 4, 2)), dtype=tl.float32)\n",
    "    test_rank = 4\n",
    "    weights, factors = parafac(X, rank=test_rank)\n",
    "\n",
    "    X_test = kruskal([factors[0], factors[1]], factors[2], test_rank, weights)\n",
    "\n",
    "    err = X - X_test\n",
    "\n",
    "    print('DEBUG | MSE for reconstruction: ', tf.math.reduce_sum(\n",
    "        tf.multiply(err, err)).numpy())\n",
    "\n",
    "test_kruskal() # test Kruskal tensor constructor\n",
    "\n"
   ],
   "outputs": [
    {
     "output_type": "stream",
     "name": "stdout",
     "text": [
      "DEBUG | MSE for reconstruction:  1.0720402e-10\n"
     ]
    }
   ],
   "metadata": {}
  },
  {
   "cell_type": "code",
   "execution_count": 168,
   "source": [
    "def reconstruct_error(Xast, U, B, R=10):\n",
    "    err = Xast - kruskal(U, B, R)\n",
    "\n",
    "    return tf.math.reduce_sum(tf.abs(err)).numpy()"
   ],
   "outputs": [],
   "metadata": {}
  },
  {
   "cell_type": "code",
   "execution_count": 169,
   "source": [
    "def descent(Uhat, Bhat, A, Y, R, max_iter):\n",
    "    U1, U2 = Uhat[0], Uhat[1]\n",
    "    I1, I2 = U1.shape[0], U2.shape[0]\n",
    "    m = A.shape[0]\n",
    "    q = Bhat.shape[0]\n",
    "\n",
    "    '''\n",
    "    Define optimizer functions.\n",
    "    '''\n",
    "    @tf.function\n",
    "    def solve_U1():\n",
    "        \"\"\"Helper function to solve the least squares \n",
    "            problem for factor matrix U1.\n",
    "        \"\"\"\n",
    "        loss = 0\n",
    "        m, I1, I2, q = A.shape\n",
    "        R = Bhat.shape[1]\n",
    "        vec_U1 = tf.reshape(U1, [I1 * R,])\n",
    "\n",
    "        for k in range(q):\n",
    "            yk = Y[:,k] # for linear projections\n",
    "            Ak = A[:,:,:,k]\n",
    "            bk = tf.reshape(Bhat[k,:], [1, R])\n",
    "\n",
    "            # dim bk khatri_rao U2: R x I2\n",
    "            U2B_kr = tf.transpose(tl.tenalg.khatri_rao([bk, U2]))\n",
    "            A_kr = tl.tenalg.mode_dot(Ak, U2B_kr, 2)\n",
    "            mat_A_kr = tf.reshape(A_kr, [m, I1 * R])\n",
    "            \n",
    "            yhat = tf.linalg.matvec(mat_A_kr, vec_U1)\n",
    "\n",
    "            loss += (1 / m) * tf.math.reduce_sum(tf.square(yhat - yk))\n",
    "\n",
    "        return loss\n",
    "    \n",
    "    @tf.function\n",
    "    def solve_U2():\n",
    "        \"\"\"Helper function to solve the least squares \n",
    "            problem for factor matrix U2.\n",
    "        \"\"\"\n",
    "        loss = 0\n",
    "        m, I1, I2, q = A.shape\n",
    "        R = Bhat.shape[1]\n",
    "\n",
    "        vec_U2 = tf.reshape(U2, [I2 * R,])\n",
    "\n",
    "        for k in range(q):\n",
    "            yk = Y[:,k] # for linear projections\n",
    "            Ak = tf.reshape(A[:,:,:,k], [m, I2, I1])\n",
    "            bk = tf.reshape(Bhat[k,:], [1, R])\n",
    "\n",
    "            # dim bk khatri_rao U1: R x I1\n",
    "            U1B_kr = tf.transpose(tl.tenalg.khatri_rao([bk, U1]))\n",
    "            A_kr = tl.tenalg.mode_dot(Ak, U1B_kr, 2)\n",
    "            mat_A_kr = tf.reshape(A_kr, [m, I2 * R])\n",
    "\n",
    "            yhat = tf.linalg.matvec(mat_A_kr, vec_U2)\n",
    "            \n",
    "            loss += (1 / m) * tf.math.reduce_sum(tf.square(yhat - yk))\n",
    "\n",
    "        return loss\n",
    "    \n",
    "    def solve_B():\n",
    "        least_squares_bks = []\n",
    "\n",
    "        for i in range(q):\n",
    "            @tf.function\n",
    "            def solve_bk():\n",
    "                m, I1, I2 = A.shape[0], A.shape[1], A.shape[2]\n",
    "                bk = Bhat[k, :]\n",
    "                vec_bk = tf.reshape(bk, [R,])\n",
    "\n",
    "                U2U1_kr = tl.tenalg.khatri_rao([U2, U1])\n",
    "                mat_Ak = tf.reshape(Ak, (m, I1 * I2))\n",
    "                A_kr = tf.linalg.matmul(mat_Ak, U2U1_kr)\n",
    "                mat_A_kr = tf.reshape(A_kr, (m, R))\n",
    "                yhat = tf.linalg.matvec(mat_A_kr, vec_bk)\n",
    "\n",
    "                return (1 / m) * tf.math.reduce_sum(tf.square(yhat - yk))\n",
    "                \n",
    "            least_squares_bks.append(solve_bk)\n",
    "        \n",
    "        return least_squares_bks\n",
    "    \n",
    "    '''\n",
    "    Perform optimizations.\n",
    "    '''\n",
    "\n",
    "    opt = tf.keras.optimizers.Adam(learning_rate=0.1)\n",
    "    opt_iters = 100\n",
    "\n",
    "    least_squares_bks = solve_B()\n",
    "\n",
    "    for t in range(max_iter):\n",
    "        print(f'Iteration-{t}')\n",
    "        print('Computing....')\n",
    "        # Cy = np.zeros([m, q]).astype('float32')\n",
    "\n",
    "        '''\n",
    "        Update Phase (for complex measurements only).\n",
    "        '''\n",
    "        # for k in range(q):\n",
    "        #     AX = tf.tensordot(\n",
    "        #         A[:,:,:,k], Xhat[:,:,k], axes=([1, 2], [0, 1]))\n",
    "        #     Ck = tf.linalg.diag(tf.math.angle(AX))\n",
    "        #     Cy[:, k] = tf.linalg.matvec(Ck, Y[:,k])\n",
    "        \n",
    "        '''\n",
    "        Solve for U1.\n",
    "        '''\n",
    "        for _ in range(opt_iters):\n",
    "            opt.minimize(solve_U1, var_list=[U1])\n",
    "        \n",
    "        print('U1 optimized')\n",
    "\n",
    "        '''\n",
    "        Solve for U2.\n",
    "        '''\n",
    "        for _ in range(opt_iters):\n",
    "            opt.minimize(solve_U2, var_list=[U2])\n",
    "        \n",
    "        print('U2 optimized')\n",
    "\n",
    "        '''\n",
    "        Solve for bk's.\n",
    "        '''\n",
    "        for k in range(q):\n",
    "            yk = Y[:,k]\n",
    "            Ak = A[:, :, :, k]\n",
    "\n",
    "            for _ in range(opt_iters):\n",
    "                opt.minimize(least_squares_bks[k], var_list=[Bhat])\n",
    "        \n",
    "        print('Bhat optimized')\n",
    "        \n",
    "        print(f'Reconstruction error: {reconstruct_error(Xast, [U1, U2], Bhat, R):.2f}.')\n",
    "    \n",
    "    Uhat = [U1, U2]\n",
    "    \n",
    "    return Uhat, Bhat\n"
   ],
   "outputs": [],
   "metadata": {}
  },
  {
   "cell_type": "code",
   "execution_count": 170,
   "source": [
    "def plrpr(A, Y, R=5, max_iter=1):\n",
    "    \"\"\"Polyadic Low Rank Phase Retrieval.\n",
    "    \"\"\"\n",
    "    Uinit, Binit = initialize(I1, I2, q, R)\n",
    "    \n",
    "    Uhat, Bhat = descent(Uinit, Binit, A, Y, R, max_iter)\n",
    "    \n",
    "    Xhat = kruskal(Uhat, Bhat, R)\n",
    "    \n",
    "    return Xhat"
   ],
   "outputs": [],
   "metadata": {}
  },
  {
   "cell_type": "code",
   "execution_count": 188,
   "source": [
    "def test_plrpr(A, Y, Xast, R=10, max_iter=10):\n",
    "    Xhat = plrpr(A, Y, R, max_iter)\n",
    "    for k in range(q):\n",
    "        filename = FRAMES_DIR + video_name + f'/frame-reconstructed-{k}' + '.jpg'\n",
    "        cv2.imwrite(filename, tf.cast(tf.multiply(norm_Xast[k], Xhat[:,:,k]), tf.int8).numpy())\n",
    "    err = normalized_Xast - Xhat\n",
    "\n",
    "    MSE = tf.math.reduce_sum(tf.abs(err)).numpy()\n",
    "\n",
    "    print(f'DEBUG | Mean squared error for reconstruction: {MSE}')\n",
    "\n",
    "    return Xhat\n",
    "\n",
    "Xhat = test_plrpr(A, Y, normalized_Xast, R = 10, max_iter = 1)\n"
   ],
   "outputs": [
    {
     "output_type": "stream",
     "name": "stdout",
     "text": [
      "Iteration-0\n",
      "Computing....\n",
      "U1 optimized\n",
      "U2 optimized\n",
      "Bhat optimized\n",
      "Reconstruction error: 195213.44.\n",
      "DEBUG | Mean squared error for reconstruction: 135.0459747314453\n"
     ]
    }
   ],
   "metadata": {
    "tags": []
   }
  },
  {
   "cell_type": "code",
   "execution_count": 178,
   "source": [
    "tf.print(normalized_Xast)"
   ],
   "outputs": [
    {
     "output_type": "stream",
     "name": "stdout",
     "text": [
      "[[[0.0888009071 0.0812287331 0.0846706331 ... 0.0550703295 0.0564470887 0.0543819517]\n",
      "  [0.0564470887 0.0653960183 0.0440562628 ... 0.0757217 0.0777868405 0.0681495368]\n",
      "  [0.0832938775 0.0846706331 0.0812287331 ... 0.0461214 0.110140659 0.0605773628]\n",
      "  ...\n",
      "  [0.0605773628 0.0729681849 0.078475222 ... 0.0832938775 0.0839822516 0.0447446443]\n",
      "  [0.059888985 0.0592006035 0.0839822516 ... 0.078475222 0.0722798109 0.0440562628]\n",
      "  [0.078475222 0.078475222 0.0743449479 ... 0.0846706331 0.059888985 0.0633308813]]\n",
      "\n",
      " [[0.059888985 0.0888009071 0.0626425 ... 0.0481865369 0.0447446443 0.0777868405]\n",
      "  [0.076410085 0.0695262924 0.0688379109 ... 0.0612657405 0.0647076368 0.0908660442]\n",
      "  [0.123908244 0.0653960183 0.0509400554 ... 0.078475222 0.0777868405 0.0736565664]\n",
      "  ...\n",
      "  [0.087368153 0.0646661893 0.0729214549 ... 0.0316451564 0.053659182 0.0715455785]\n",
      "  [0.0454039238 0.0454039238 0.0784249604 ... 0.0667300075 0.0839284658 0.0859922767]\n",
      "  [0.0791128948 0.0818646476 0.0818646476 ... 0.0653541312 0.0509074293 0.046091862]]\n",
      "\n",
      " [[0.0454039238 0.077049084 0.0742973313 ... 0.0866802186 0.0832405239 0.0818646476]\n",
      "  [0.0839284658 0.0543471202 0.0584747493 ... 0.0405883566 0.0467798 0.0777370185]\n",
      "  [0.0756732076 0.0474677384 0.0777370185 ... 0.0708576366 0.0846164 0.0839284658]\n",
      "  ...\n",
      "  [0.0572023243 0.0647833571 0.0406618938 ... 0.0785670504 0.0785670504 0.0744319409]\n",
      "  [0.0702968314 0.0909723714 0.110958725 ... 0.0634049848 0.0889048204 0.0613374338]\n",
      "  [0.043418631 0.0882156342 0.0523780324 ... 0.0771886781 0.0696076453 0.0682292804]]\n",
      "\n",
      " ...\n",
      "\n",
      " [[0.0823187679 0.0850857869 0.0830105245 ... 0.0733259618 0.166712806 0.0657166615]\n",
      "  [0.0408135056 0.0470392965 0.0781682432 ... 0.0767847374 0.0705589429 0.0906198174]\n",
      "  [0.07886 0.0850857869 0.0843940303 ... 0.0594908744 0.0442722775 0.0442722775]\n",
      "  ...\n",
      "  [0.0787722766 0.0787722766 0.0746263638 ... 0.0849911347 0.061497651 0.0690984875]\n",
      "  [0.0684075 0.0891370475 0.0601156838 ... 0.0476779565 0.0449140146 0.0780812874]\n",
      "  [0.0773903057 0.0697894692 0.0690984875 ... 0.0704804584 0.0766993165 0.0891370475]]\n",
      "\n",
      " [[0.117467426 0.0566607565 0.0497509092 ... 0.0787722766 0.0780812874 0.0732443929]\n",
      "  [0.0684075 0.0787722766 0.0863731056 ... 0.0836091712 0.09121 0.0559697747]\n",
      "  [0.0559697747 0.0483689383 0.0594247 ... 0.0760083348 0.0483689383 0.0760083348]\n",
      "  ...\n",
      "  [0.0810548365 0.0845187157 0.0824403837 ... 0.0595787652 0.0505726747 0.0443376862]\n",
      "  [0.0457232408 0.0782837272 0.0734342933 ... 0.0824403837 0.0865970403 0.0907537043]\n",
      "  [0.0838259384 0.0554221086 0.0568076596 ... 0.0401810296 0.0464160144 0.0782837272]]\n",
      "\n",
      " [[0.0755126253 0.0478015691 0.0782837272 ... 0.0817476064 0.0831331611 0.0845187157]\n",
      "  [0.0588859916 0.0595787652 0.0616570935 ... 0.0471087918 0.0775909498 0.056114886]\n",
      "  [0.0457232408 0.0789765045 0.0768981725 ... 0.0838259384 0.0838259384 0.0637354255]\n",
      "  ...\n",
      "  [0.0436449088 0.0464160144 0.0616570935 ... 0.0768981725 0.0706631914 0.0755126253]\n",
      "  [0.0817476064 0.0852114931 0.0859042704 ... 0.0644282 0.0630426481 0.0311749354]\n",
      "  [0.0533437803 0.0720487386 0.0457232408 ... 0.0741270706 0.0782837272 0.0671993047]]]\n"
     ]
    }
   ],
   "metadata": {}
  },
  {
   "cell_type": "code",
   "execution_count": 189,
   "source": [
    "tf.print(tf.cast(tf.multiply(norm_Xast[k], Xhat[:, :, k]), tf.int8))\n",
    "print(norm_Xast)"
   ],
   "outputs": [
    {
     "output_type": "stream",
     "name": "stdout",
     "text": [
      "[[14 1 11 ... 13 -5 -9]\n",
      " [2 14 -31 ... 2 6 5]\n",
      " [5 16 11 ... -21 11 6]\n",
      " ...\n",
      " [-23 -10 4 ... 13 -7 -9]\n",
      " [7 -4 -21 ... 18 -1 -10]\n",
      " [-3 15 -27 ... -3 4 6]]\n"
     ]
    }
   ],
   "metadata": {}
  },
  {
   "cell_type": "code",
   "execution_count": 53,
   "source": [
    "class TensorLRPR"
   ],
   "outputs": [
    {
     "output_type": "error",
     "ename": "SyntaxError",
     "evalue": "invalid syntax (<ipython-input-53-80ab800cc55c>, line 1)",
     "traceback": [
      "\u001b[0;36m  File \u001b[0;32m\"<ipython-input-53-80ab800cc55c>\"\u001b[0;36m, line \u001b[0;32m1\u001b[0m\n\u001b[0;31m    class TensorLRPR\u001b[0m\n\u001b[0m                    ^\u001b[0m\n\u001b[0;31mSyntaxError\u001b[0m\u001b[0;31m:\u001b[0m invalid syntax\n"
     ]
    }
   ],
   "metadata": {}
  },
  {
   "cell_type": "code",
   "execution_count": null,
   "source": [
    "class TensorUtils"
   ],
   "outputs": [],
   "metadata": {}
  },
  {
   "cell_type": "markdown",
   "source": [
    "- Initialization (Spectral, HOSVD) for CP formulation.\n",
    "- Complex measurements.\n"
   ],
   "metadata": {}
  }
 ]
}