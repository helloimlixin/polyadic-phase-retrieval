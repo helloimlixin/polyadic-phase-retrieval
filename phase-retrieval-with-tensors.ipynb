{
 "metadata": {
  "orig_nbformat": 2,
  "kernelspec": {
   "name": "python3",
   "display_name": "Python 3.6.9 64-bit"
  },
  "interpreter": {
   "hash": "31f2aee4e71d21fbe5cf8b01ff0e069b9275f58929596ceb00d14d90e3e16cd6"
  },
  "language_info": {
   "name": "python",
   "version": "3.6.9",
   "mimetype": "text/x-python",
   "codemirror_mode": {
    "name": "ipython",
    "version": 3
   },
   "pygments_lexer": "ipython3",
   "nbconvert_exporter": "python",
   "file_extension": ".py"
  }
 },
 "nbformat": 4,
 "nbformat_minor": 2,
 "cells": [
  {
   "cell_type": "markdown",
   "source": [
    "# Computational Phase Retrieval with Tensor Methods"
   ],
   "metadata": {}
  },
  {
   "cell_type": "markdown",
   "source": [
    "## Device Information"
   ],
   "metadata": {}
  },
  {
   "cell_type": "code",
   "execution_count": 1,
   "source": [
    "!nvidia-smi"
   ],
   "outputs": [
    {
     "output_type": "stream",
     "name": "stdout",
     "text": [
      "Wed Aug 18 15:45:08 2021       \n",
      "+-----------------------------------------------------------------------------+\n",
      "| NVIDIA-SMI 460.91.03    Driver Version: 460.91.03    CUDA Version: 11.2     |\n",
      "|-------------------------------+----------------------+----------------------+\n",
      "| GPU  Name        Persistence-M| Bus-Id        Disp.A | Volatile Uncorr. ECC |\n",
      "| Fan  Temp  Perf  Pwr:Usage/Cap|         Memory-Usage | GPU-Util  Compute M. |\n",
      "|                               |                      |               MIG M. |\n",
      "|===============================+======================+======================|\n",
      "|   0  GeForce GTX 165...  Off  | 00000000:01:00.0  On |                  N/A |\n",
      "| N/A   60C    P0    14W /  N/A |    605MiB /  3911MiB |     18%      Default |\n",
      "|                               |                      |                  N/A |\n",
      "+-------------------------------+----------------------+----------------------+\n",
      "                                                                               \n",
      "+-----------------------------------------------------------------------------+\n",
      "| Processes:                                                                  |\n",
      "|  GPU   GI   CI        PID   Type   Process name                  GPU Memory |\n",
      "|        ID   ID                                                   Usage      |\n",
      "|=============================================================================|\n",
      "+-----------------------------------------------------------------------------+\n"
     ]
    }
   ],
   "metadata": {}
  },
  {
   "cell_type": "markdown",
   "source": [
    "## Import Required Libraries"
   ],
   "metadata": {}
  },
  {
   "cell_type": "code",
   "execution_count": 2,
   "source": [
    "import functools\n",
    "from scipy.optimize import minimize\n",
    "from numba import jit, njit, prange\n",
    "import warnings\n",
    "from matplotlib import rc, rcParams\n",
    "import seaborn as sns\n",
    "import matplotlib.cm as cm\n",
    "from PIL import Image\n",
    "import os\n",
    "import time\n",
    "import cv2\n",
    "import tensorly as tl\n",
    "import numpy as np\n",
    "from matplotlib import pyplot as plt\n",
    "import tensorflow as tf\n",
    "print(f\"Tensorflow version: {tf.__version__}\")\n",
    "\n",
    "\n",
    "gpus = tf.config.list_physical_devices('GPU')\n",
    "\n",
    "if gpus:\n",
    "    try:\n",
    "        print(\"Num GPUs Available: \", len(gpus))\n",
    "        for gpu in gpus:\n",
    "            # Allow memory growth for the GPU.\n",
    "            # Reference: https://www.tensorflow.org/guide/gpu\n",
    "            tf.config.experimental.set_memory_growth(gpu, True)\n",
    "        logical_gpus = tf.config.experimental.list_logical_devices('GPU')\n",
    "        print(len(gpus), \"Physical GPUs,\", len(logical_gpus), \"Logical GPUs\")\n",
    "    except RuntimeError as e:\n",
    "        # Memory growth must be set before GPUs have been initialized.\n",
    "        print(e)\n",
    "\n",
    "plt.style.use('dark_background')\n",
    "tl.set_backend('tensorflow')\n",
    "\n",
    "rc('text', usetex=False)\n",
    "\n"
   ],
   "outputs": [
    {
     "output_type": "stream",
     "name": "stdout",
     "text": [
      "Tensorflow version: 2.5.0\n",
      "Num GPUs Available:  1\n",
      "1 Physical GPUs, 1 Logical GPUs\n"
     ]
    }
   ],
   "metadata": {}
  },
  {
   "cell_type": "markdown",
   "source": [
    "## GPU Benchmark\n",
    "\n",
    "Run preliminarily to avoid cold-start.\n",
    "\n",
    "Reference: https://www.tensorflow.org/guide/gpu"
   ],
   "metadata": {}
  },
  {
   "cell_type": "code",
   "execution_count": 8,
   "source": [
    "tf.debugging.set_log_device_placement(True)\n",
    "\n",
    "n = 1000\n",
    "num_iters = 10\n",
    "\n",
    "'''\n",
    "Test with TensorFlow GPU.\n",
    "'''\n",
    "start_tf = time.time()\n",
    "\n",
    "for i in range(num_iters):\n",
    "    # Tensors are defaultly placed on the GPU (CPU would be considerably \n",
    "    # slower due to the incurred communication cost).\n",
    "    a = tf.ones((n, n))\n",
    "    b = tf.ones((n, n))\n",
    "\n",
    "    # Run on the GPU\n",
    "    c = tf.matmul(a, b)\n",
    "\n",
    "print(f'Elapsed time with TensorFlow GPU: {time.time() - start_tf}')\n",
    "\n",
    "'''\n",
    "Test with Numpy.\n",
    "'''\n",
    "start_np = time.time()\n",
    "\n",
    "for i in range(num_iters):\n",
    "    a = np.ones((n, n))\n",
    "    b = np.ones((n, n))\n",
    "\n",
    "    c = np.dot(a, b)\n",
    "\n",
    "print(f'Elapsed time with Numpy: {time.time() - start_np}') # CAN BE SLOW\n"
   ],
   "outputs": [
    {
     "output_type": "stream",
     "name": "stdout",
     "text": [
      "Elapsed time with TensorFlow GPU: 0.010373353958129883\n",
      "Elapsed time with Numpy: 0.3589625358581543\n"
     ]
    }
   ],
   "metadata": {}
  },
  {
   "cell_type": "markdown",
   "source": [
    "## Low Rank Phase Retrieval\n",
    "\n",
    "References:\n",
    "\n",
    "\\[1\\] Namrata Vaswani, Seyedehsara Nayer, Yonina C. Eldar. *Low Rank Phase Retrieval*. https://rutgers.box.com/s/dntl0sh157p62rgi1zerdaxrqthugr32\n",
    "\n",
    "\\[2\\] Namrata Vaswani. *Nonconvex Structured Phase Retrieval*. https://rutgers.box.com/s/x02w8frd1ep01cxdjlnojufa9npvstsz.\n",
    "\n",
    "\\[3\\] Tamara G. Kolda, Brett W. Bader. *Tensor Decompositions and Applications*. https://rutgers.box.com/s/aq9psx3mgwhms6rrzlhn94h56c3oshox. \n",
    "\n",
    "\n"
   ],
   "metadata": {}
  },
  {
   "cell_type": "markdown",
   "source": [
    "### Define Data Directories"
   ],
   "metadata": {}
  },
  {
   "cell_type": "code",
   "execution_count": 4,
   "source": [
    "INPUT_DIR = './videos/' # directory of the test videos\n",
    "OUTPUT_DIR = './output/' # output directory\n",
    "FRAMES_DIR = './ouput/frames/' # output directory of the extracted video frames "
   ],
   "outputs": [],
   "metadata": {}
  },
  {
   "cell_type": "markdown",
   "source": [
    "### Load the Test Video"
   ],
   "metadata": {}
  },
  {
   "cell_type": "code",
   "execution_count": 12,
   "source": [
    "# Read the video.\n",
    "video_path = INPUT_DIR + os.listdir(INPUT_DIR)[1] # define video path\n",
    "cap = cv2.VideoCapture(video_path) # read the video from path\n",
    "video_name = os.listdir(INPUT_DIR)[1].split('.')[0] # get the name of the video\n",
    "print(video_name)\n",
    "\n",
    "# Creat the folder to store the extracted frames of the video.\n",
    "try:\n",
    "    if not os.path.exists(FRAMES_DIR + video_name):\n",
    "        os.makedirs(FRAMES_DIR + video_name)\n",
    "    else:\n",
    "        print('Directory already exists!')\n",
    "except OSError:\n",
    "    print('OS ERROR')\n",
    "\n",
    "k = 0 # frame number, k = 0, 1, 2, ..., Q - 1\n",
    "extracted_frames = []\n",
    "Rhat = 0\n",
    "while (True):\n",
    "    # Capture the video frame-by-frame.\n",
    "    # Code adopted: https://docs.opencv.org/3.4/dd/d43\n",
    "    # tutorial_py_video_display.html\n",
    "    ret, frame = cap.read()\n",
    "\n",
    "    # If the frame is read correctly the return boolean (ret) is true.\n",
    "    if not ret:\n",
    "        print(\"Cannot receive frame (probably end of stream). Exiting...\")\n",
    "        break\n",
    "    elif k < 5:\n",
    "        # Convert the frame to grayscale.\n",
    "        gray_frame_original = cv2.cvtColor(frame, cv2.COLOR_BGR2GRAY)\n",
    "        scale = 0.125\n",
    "        width = int(gray_frame_original.shape[1] * scale)\n",
    "        height = int(gray_frame_original.shape[0] * scale)\n",
    "        gray_frame = cv2.resize(gray_frame_original, (width, height))\n",
    "        name = FRAMES_DIR + video_name + '/frame-' + str(k) + '.jpg'\n",
    "        print('DEBUG: Captured...' + name)\n",
    "        svds = np.linalg.svd(gray_frame)[1]\n",
    "        max_svd, min_svd = np.max(svds), np.min(svds)\n",
    "        normalized_svds = svds / (max_svd - min_svd)\n",
    "        Rhat += np.sum(normalized_svds > 0.1)\n",
    "        cv2.imwrite(name, gray_frame)\n",
    "\n",
    "        # plt.plot(range(480), normalized_svds)\n",
    "        # plt.show()\n",
    "        \n",
    "        extracted_frames.append(gray_frame)\n",
    "\n",
    "        k += 1\n",
    "\n",
    "Rhat = Rhat // k + 1\n",
    "print('Approximate rank of each frame: ', Rhat)\n",
    "\n",
    "# Release the capture when finished.\n",
    "cap.release()\n",
    "cv2.destroyAllWindows()"
   ],
   "outputs": [
    {
     "output_type": "stream",
     "name": "stdout",
     "text": [
      "Mouse\n",
      "Directory already exists!\n",
      "DEBUG: Captured..../ouput/frames/Mouse/frame-0.jpg\n",
      "DEBUG: Captured..../ouput/frames/Mouse/frame-1.jpg\n",
      "DEBUG: Captured..../ouput/frames/Mouse/frame-2.jpg\n",
      "DEBUG: Captured..../ouput/frames/Mouse/frame-3.jpg\n",
      "DEBUG: Captured..../ouput/frames/Mouse/frame-4.jpg\n",
      "Cannot receive frame (probably end of stream). Exiting...\n",
      "Approximate rank of each frame:  4\n"
     ]
    }
   ],
   "metadata": {
    "tags": []
   }
  },
  {
   "cell_type": "markdown",
   "source": [
    "### Create the true signal tensor.\n",
    "\n",
    "Tensors are multi-dimensional arrays with a uniform type (`dtype`). All tensors are immutable like Python numbers and strings: you can never update the contents of a tensor, only create a new one.\n",
    "\n",
    "**Note**: In libraries like tensorflow, the rank of the tensor actually denotes the order of the tensor in our convention. We call the `rank` of a tensor in a similar manner as the rank of a matrix.\n",
    "\n",
    "The gray-scaled signal is modeled as a three-ordered tensor $\\boldsymbol{\\mathcal{X}} \\in \\mathbb{R}^{I_1 \\times I_2 \\times q}$, where $I_1 \\times I_2$ correspond to the pixel coordinates within each frame and $q$ is the total number of frames captured.\n",
    "\n",
    "**Signal Dimension**"
   ],
   "metadata": {}
  },
  {
   "cell_type": "code",
   "execution_count": 13,
   "source": [
    "Xast = tf.convert_to_tensor(extracted_frames, tf.float32)\n",
    "Q, I1, I2 = Xast.shape\n",
    "Xast = tf.reshape(Xast, [I1, I2, Q])\n",
    "print(f'The dimension of the true signal tensor: I1 x I2 x Q: {I1} x {I2} x {Q}')\n",
    "print(f'Sample complexity for rank {Rhat}: O({(Q + I1 + I2) * Rhat})')"
   ],
   "outputs": [
    {
     "output_type": "stream",
     "name": "stdout",
     "text": [
      "The dimension of the true signal tensor: I1 x I2 x Q: 54 x 95 x 5\n",
      "Sample complexity for rank 4: O(616)\n"
     ]
    }
   ],
   "metadata": {}
  },
  {
   "cell_type": "markdown",
   "source": [
    "### Generate Phaseless Measurements"
   ],
   "metadata": {}
  },
  {
   "cell_type": "code",
   "execution_count": 14,
   "source": [
    "def initialize_zeros(dim):\n",
    "    \"\"\"Helper function to initiaize a tf.Variable with zero entries given a\n",
    "    specific dim.\n",
    "\n",
    "    Args:\n",
    "        dim (list): a list describing the target dimension.\n",
    "\n",
    "    Returns:\n",
    "        tf.Variable(shape=dim, tf.float32): initialized tf.Variable\n",
    "    \"\"\"\n",
    "    \n",
    "    initializer = tf.zeros_initializer()\n",
    "    return tf.Variable(initializer(shape=dim, dtype=tf.float32))"
   ],
   "outputs": [],
   "metadata": {}
  },
  {
   "cell_type": "markdown",
   "source": [
    "#### Generate the measurement tensor"
   ],
   "metadata": {}
  },
  {
   "cell_type": "code",
   "execution_count": 18,
   "source": [
    "def generate_measurement_tensor(M, I1, I2, Q):\n",
    "    \"\"\"Generate a measurement tensor A (M x I1 x I2 x Q) using i.i.d. random\n",
    "    Gaussian sample matrices (I1 x I2) along each M, Q dimension.\n",
    "\n",
    "    Args:\n",
    "        M (int): number of measurements for each frame\n",
    "        I1 (int): I1 dimension of the frame\n",
    "        I2 (int): I2 dimension of the frame\n",
    "        Q (int): number of frames\n",
    "\n",
    "    Returns:\n",
    "        [tf.Variable, dtype=tf.float32]: [the measurement tensor of dimension\n",
    "        M x I1 x I2 x Q].\n",
    "    \"\"\"\n",
    "    A = initialize_zeros([M, I1, I2, Q]) # measurement tensor\n",
    "\n",
    "    # Generate i.i.d. measurement tensors.\n",
    "    for j in range(M):\n",
    "        for k in range(Q):\n",
    "            # i.i.d. normal measurements from the independent number stream\n",
    "            A[j, :, :, k].assign(tf.random.normal([I1, I2]))\n",
    "    \n",
    "    return A\n",
    "\n",
    "start = time.time()\n",
    "M = 2000\n",
    "A = generate_measurement_tensor(M, I1, I2, Q)\n",
    "print(f'Elapsed time: {time.time() - start} seconds.')"
   ],
   "outputs": [
    {
     "output_type": "stream",
     "name": "stdout",
     "text": [
      "Elapsed time: 3.815293073654175 seconds.\n"
     ]
    }
   ],
   "metadata": {
    "tags": []
   }
  },
  {
   "cell_type": "markdown",
   "source": [
    "#### Generate measurements."
   ],
   "metadata": {
    "tags": []
   }
  },
  {
   "cell_type": "code",
   "execution_count": 19,
   "source": [
    "Y = tf.Variable(tf.zeros([M, Q]))\n",
    "norms_Xast = np.zeros(Q)\n",
    "\n",
    "for k in range(Q):\n",
    "    # Normalize the true signal tensor with Frobenius norm.\n",
    "    normalized_Xast, norms_Xast[k] = tf.linalg.normalize(\n",
    "        Xast[:, :, k], ord='fro', axis=[0, 1])\n",
    "    Y[:, k].assign(\n",
    "        tf.tensordot(A[:, :, :, k], normalized_Xast, axes=([1, 2], [0, 1])))"
   ],
   "outputs": [],
   "metadata": {}
  },
  {
   "cell_type": "code",
   "execution_count": 20,
   "source": [
    "def initialize(I1, I2, Q, R):\n",
    "    \"\"\"Initialize factor matrices. Currently only work for three-way\n",
    "    decomposition, i.e., we assume the true signal tensor Xast can be factorized\n",
    "    into three factor matrices: Xast = [U1, U2, B].\n",
    "\n",
    "    Considering the potential extension to higher dimensional factorization and\n",
    "    the special factor matrix preserved for the dimension corresponding to the\n",
    "    number of frames of the signal, the initialization function returns a list\n",
    "    containing the factor matrices excluding the factor matrix B, which is\n",
    "    called U = [U1, U2, ...], alongwith the factor matrix B.\n",
    "\n",
    "    Args:\n",
    "        I1 (int): I1 dimension of the signal frame.\n",
    "        I2 (int): I2 dimension of the signal frame.\n",
    "        Q (int): number of frames.\n",
    "        R (int): rank dimension of the factor matrices.\n",
    "\n",
    "    Returns:\n",
    "        tuple: a tuple containing a list of factor matrices U's and the factor\n",
    "        matrix B.\n",
    "    \"\"\"\n",
    "\n",
    "    U1 = tf.Variable(tf.random.normal([I1, R]))\n",
    "    U2 = tf.Variable(tf.random.normal([I2, R]))\n",
    "    B = tf.Variable(tf.random.normal([Q, R]))\n",
    "    \n",
    "    return [U1, U2], B"
   ],
   "outputs": [],
   "metadata": {}
  },
  {
   "cell_type": "code",
   "execution_count": 21,
   "source": [
    "def kruskal(U, B, R, Lambda=None, type='CP'):\n",
    "    \"\"\"Construct Tensor from Kruskal Formulation.\n",
    "\n",
    "        Args:\n",
    "            U: list consisting of two factor matrices U1 (I1 x R)\n",
    "                and U2 (I2 x R) for the three-way case.\n",
    "            B: the B (Q x R) factor matrix.\n",
    "            R: assumped rank (a scalar) of the low-rank tensor.\n",
    "            Lambda: normalization factors (length R).\n",
    "        \n",
    "        Returns:\n",
    "            Xhat: signal estimate (I1 x I2 x q).\n",
    "    \"\"\"\n",
    "    warnings.filterwarnings(\"ignore\", category=RuntimeWarning)\n",
    "\n",
    "    if type == 'CP':\n",
    "        U1, U2 = U[0], U[1]\n",
    "        I1, I2, Q = U1.shape[0], U2.shape[0], B.shape[0]\n",
    "        Xhat = tf.zeros([I1, I2, q])\n",
    "        if Lambda is None:\n",
    "            Lambda = tf.ones([R,])\n",
    "        for r in range(R):\n",
    "            U1U2 = tf.tensordot(U1[:, r], U2[:, r], axes=0)\n",
    "            Xhat += Lambda[r] * tf.tensordot(U1U2, B[:, r], axes=0)\n",
    "        return Xhat\n",
    "\n",
    "    return None"
   ],
   "outputs": [],
   "metadata": {}
  },
  {
   "cell_type": "code",
   "execution_count": 36,
   "source": [
    "def descent(Uhat, Bhat, A, Y, R, max_iter):\n",
    "    \"\"\"Descent step of the ALS algorithm, currently only works for three-way\n",
    "    decomposition.\n",
    "\n",
    "    Args:\n",
    "        Uhat (list):  a list containing factor matrices with after the initial\n",
    "        estimates, i.e., [U1, U2, ...]\n",
    "        Bhat (tf.Variable(dim=[Q, R], dtype=tf.float32)): initial estimate for\n",
    "        the factor matrix B.\n",
    "        A (tf.Variable(dim=[M, I1, I2, Q], dtype=tf.float32)): the measurement\n",
    "        tensor.\n",
    "        Y (tf.Tensor(dim=[M, Q], dtype=tf.float32)): the phaseless measurements,\n",
    "        currently only linear projections.\n",
    "        R (int): estimated rank\n",
    "        max_iter (int): maximum number of iterations.\n",
    "\n",
    "    Returns:\n",
    "        tuple: a tuple containing U (a list of factor matrices excluding factor\n",
    "        matrix B which accounts for the total number of frames) and the factor \n",
    "        matrix B.\n",
    "    \"\"\"\n",
    "    U1, U2 = Uhat[0], Uhat[1]\n",
    "    I1, I2 = U1.shape[0], U2.shape[0]\n",
    "    m = A.shape[0]\n",
    "    q = Bhat.shape[0]\n",
    "\n",
    "    '''\n",
    "    Define optimizer functions.\n",
    "    '''\n",
    "    @tf.function\n",
    "    def solve_U1():\n",
    "        \"\"\"Helper function to solve the least squares \n",
    "            problem for factor matrix U1.\n",
    "        \"\"\"\n",
    "        loss = 0\n",
    "        m, I1, I2, q = A.shape\n",
    "        R = Bhat.shape[1]\n",
    "        vec_U1 = tf.reshape(U1, [I1 * R,])\n",
    "\n",
    "        for k in range(q):\n",
    "            yk = Y[:,k] # for linear projections\n",
    "            Ak = A[:,:,:,k]\n",
    "            bk = tf.reshape(Bhat[k,:], [1, R])\n",
    "\n",
    "            # dim bk khatri_rao U2: R x I2\n",
    "            U2B_kr = tf.transpose(tl.tenalg.khatri_rao([bk, U2]))\n",
    "            A_kr = tl.tenalg.mode_dot(Ak, U2B_kr, 2)\n",
    "            mat_A_kr = tf.reshape(A_kr, [m, I1 * R])\n",
    "            \n",
    "            yhat = tf.linalg.matvec(mat_A_kr, vec_U1)\n",
    "\n",
    "            loss += (1 / m) * tf.math.reduce_sum(tf.square(yhat - yk))\n",
    "\n",
    "        return loss\n",
    "    \n",
    "    @tf.function\n",
    "    def solve_U2():\n",
    "        \"\"\"Helper function to solve the least squares \n",
    "            problem for factor matrix U2.\n",
    "        \"\"\"\n",
    "        loss = 0\n",
    "        m, I1, I2, q = A.shape\n",
    "        R = Bhat.shape[1]\n",
    "\n",
    "        vec_U2 = tf.reshape(U2, [I2 * R,])\n",
    "\n",
    "        for k in range(q):\n",
    "            yk = Y[:,k] # for linear projections\n",
    "            Ak = tf.reshape(A[:,:,:,k], [m, I2, I1])\n",
    "            bk = tf.reshape(Bhat[k,:], [1, R])\n",
    "\n",
    "            # dim bk khatri_rao U1: R x I1\n",
    "            U1B_kr = tf.transpose(tl.tenalg.khatri_rao([bk, U1]))\n",
    "            A_kr = tl.tenalg.mode_dot(Ak, U1B_kr, 2)\n",
    "            mat_A_kr = tf.reshape(A_kr, [m, I2 * R])\n",
    "\n",
    "            yhat = tf.linalg.matvec(mat_A_kr, vec_U2)\n",
    "            \n",
    "            loss += (1 / m) * tf.math.reduce_sum(tf.square(yhat - yk))\n",
    "\n",
    "        return loss\n",
    "    \n",
    "    def solve_B():\n",
    "        least_squares_bks = []\n",
    "\n",
    "        for i in range(q):\n",
    "            @tf.function\n",
    "            def solve_bk():\n",
    "                m, I1, I2 = A.shape[0], A.shape[1], A.shape[2]\n",
    "                bk = Bhat[k, :]\n",
    "                vec_bk = tf.reshape(bk, [R,])\n",
    "\n",
    "                U2U1_kr = tl.tenalg.khatri_rao([U2, U1])\n",
    "                mat_Ak = tf.reshape(Ak, (m, I1 * I2))\n",
    "                A_kr = tf.linalg.matmul(mat_Ak, U2U1_kr)\n",
    "                mat_A_kr = tf.reshape(A_kr, (m, R))\n",
    "                yhat = tf.linalg.matvec(mat_A_kr, vec_bk)\n",
    "\n",
    "                return (1 / m) * tf.math.reduce_sum(tf.square(yhat - yk))\n",
    "                \n",
    "            least_squares_bks.append(solve_bk)\n",
    "        \n",
    "        return least_squares_bks\n",
    "    \n",
    "    '''\n",
    "    Perform optimizations.\n",
    "    '''\n",
    "\n",
    "    opt = tf.keras.optimizers.SGD()\n",
    "    opt_iters = 100\n",
    "\n",
    "    least_squares_bks = solve_B()\n",
    "\n",
    "    for t in range(max_iter):\n",
    "        print(f'Iteration-{t}')\n",
    "        print('Computing....')\n",
    "        # Cy = np.zeros([m, q]).astype('float32')\n",
    "\n",
    "        '''\n",
    "        Update Phase (for complex measurements only).\n",
    "        '''\n",
    "        # for k in range(q):\n",
    "        #     AX = tf.tensordot(\n",
    "        #         A[:,:,:,k], Xhat[:,:,k], axes=([1, 2], [0, 1]))\n",
    "        #     Ck = tf.linalg.diag(tf.math.angle(AX))\n",
    "        #     Cy[:, k] = tf.linalg.matvec(Ck, Y[:,k])\n",
    "        \n",
    "        '''\n",
    "        Solve for U1.\n",
    "        '''\n",
    "        for _ in range(opt_iters):\n",
    "            opt.minimize(solve_U1, var_list=[U1])\n",
    "        \n",
    "        print('U1 optimized')\n",
    "\n",
    "        '''\n",
    "        Solve for U2.\n",
    "        '''\n",
    "        for _ in range(opt_iters):\n",
    "            opt.minimize(solve_U2, var_list=[U2])\n",
    "        \n",
    "        print('U2 optimized')\n",
    "\n",
    "        '''\n",
    "        Solve for bk's.\n",
    "        '''\n",
    "        for k in range(q):\n",
    "            yk = Y[:,k]\n",
    "            Ak = A[:, :, :, k]\n",
    "\n",
    "            for _ in range(opt_iters):\n",
    "                opt.minimize(least_squares_bks[k], var_list=[Bhat])\n",
    "        \n",
    "        print('Bhat optimized')\n",
    "    \n",
    "    Uhat = [U1, U2]\n",
    "    \n",
    "    return Uhat, Bhat\n"
   ],
   "outputs": [],
   "metadata": {}
  },
  {
   "cell_type": "code",
   "execution_count": 37,
   "source": [
    "def plrpr(A, Y, R=5, max_iter=1):\n",
    "    \"\"\"Polyadic Low Rank Phase Retrieval.\n",
    "    \"\"\"\n",
    "    Uinit, Binit = initialize(I1, I2, q, R)\n",
    "    \n",
    "    Uhat, Bhat = descent(Uinit, Binit, A, Y, R, max_iter)\n",
    "    \n",
    "    Xhat = kruskal(Uhat, Bhat, R)\n",
    "    \n",
    "    return Xhat"
   ],
   "outputs": [],
   "metadata": {}
  },
  {
   "cell_type": "code",
   "execution_count": 39,
   "source": [
    "def test_plrpr(A, Y, norms_Xast, R=10, max_iter=10):\n",
    "    Xhat = plrpr(A, Y, R, max_iter)\n",
    "    reconstructed_frames = []\n",
    "    for k in range(Q):\n",
    "        plt.imshow(Xhat[:,:,k])\n",
    "        plt.show()\n",
    "        # X = tf.multiply(norms_Xast[k], Xhat[:,:,k])\n",
    "        # maxdiff = tf.math.reduce_max(X) - tf.math.reduce_min(X)\n",
    "        \n",
    "        # frame = tf.multiply(tf.cast((X - tf.math.reduce_min(X)) / maxdiff, tf.int8), 255)\n",
    "        # filename = FRAMES_DIR + video_name + f'/frame-reconstructed-{k}' + '.jpg'\n",
    "        # cv2.imwrite(filename, frame.numpy().astype(int))\n",
    "        # reconstructed_frames.append(frame.numpy().astype(int))\n",
    "\n",
    "    return tf.convert_to_tensor(reconstructed_frames, dtype=tf.int8)\n",
    "\n",
    "Xhat = tf.reshape(test_plrpr(A, Y, norms_Xast, R = 20, max_iter = 10), [I1, I2, q])\n",
    "\n",
    "print(f'Reconstructed error: {tf.math.reduce_sum(tf.math.abs(Xhat - tf.cast(Xast, tf.int8)))}')"
   ],
   "outputs": [
    {
     "output_type": "stream",
     "name": "stdout",
     "text": [
      "Iteration-0\n",
      "Computing....\n",
      "U1 optimized\n",
      "U2 optimized\n",
      "Bhat optimized\n",
      "Iteration-1\n",
      "Computing....\n",
      "U1 optimized\n",
      "U2 optimized\n",
      "Bhat optimized\n",
      "Iteration-2\n",
      "Computing....\n",
      "U1 optimized\n",
      "U2 optimized\n",
      "Bhat optimized\n",
      "Iteration-3\n",
      "Computing....\n",
      "U1 optimized\n",
      "U2 optimized\n",
      "Bhat optimized\n",
      "Iteration-4\n",
      "Computing....\n",
      "U1 optimized\n",
      "U2 optimized\n",
      "Bhat optimized\n",
      "Iteration-5\n",
      "Computing....\n",
      "U1 optimized\n",
      "U2 optimized\n",
      "Bhat optimized\n",
      "Iteration-6\n",
      "Computing....\n",
      "U1 optimized\n",
      "U2 optimized\n",
      "Bhat optimized\n",
      "Iteration-7\n",
      "Computing....\n",
      "U1 optimized\n",
      "U2 optimized\n",
      "Bhat optimized\n",
      "Iteration-8\n",
      "Computing....\n",
      "U1 optimized\n",
      "U2 optimized\n",
      "Bhat optimized\n",
      "Iteration-9\n",
      "Computing....\n",
      "U1 optimized\n",
      "U2 optimized\n"
     ]
    },
    {
     "output_type": "stream",
     "name": "stderr",
     "text": [
      "findfont: Font family ['Cubano'] not found. Falling back to DejaVu Sans.\n"
     ]
    },
    {
     "output_type": "stream",
     "name": "stdout",
     "text": [
      "Bhat optimized\n"
     ]
    },
    {
     "output_type": "display_data",
     "data": {
      "text/plain": [
       "<Figure size 432x288 with 1 Axes>"
      ],
      "image/png": "[encoded data removed]"
     },
     "metadata": {}
    },
    {
     "output_type": "display_data",
     "data": {
      "text/plain": [
       "<Figure size 432x288 with 1 Axes>"
      ],
      "image/png": "[encoded data removed]"
     },
     "metadata": {}
    },
    {
     "output_type": "display_data",
     "data": {
      "text/plain": [
       "<Figure size 432x288 with 1 Axes>"
      ],
      "image/png": "[encoded data removed]"
     },
     "metadata": {}
    },
    {
     "output_type": "display_data",
     "data": {
      "text/plain": [
       "<Figure size 432x288 with 1 Axes>"
      ],
      "image/png": "[encoded data removed]"
     },
     "metadata": {}
    },
    {
     "output_type": "display_data",
     "data": {
      "text/plain": [
       "<Figure size 432x288 with 1 Axes>"
      ],
      "image/png": "[encoded data removed]"
     },
     "metadata": {}
    },
    {
     "output_type": "error",
     "ename": "InvalidArgumentError",
     "evalue": "Input to reshape is a tensor with 0 values, but the requested shape has 675 [Op:Reshape]",
     "traceback": [
      "\u001b[0;31m---------------------------------------------------------------------------\u001b[0m",
      "\u001b[0;31mInvalidArgumentError\u001b[0m                      Traceback (most recent call last)",
      "\u001b[0;32m<ipython-input-39-f23d4abdcf72>\u001b[0m in \u001b[0;36m<module>\u001b[0;34m\u001b[0m\n\u001b[1;32m     15\u001b[0m     \u001b[0;32mreturn\u001b[0m \u001b[0mtf\u001b[0m\u001b[0;34m.\u001b[0m\u001b[0mconvert_to_tensor\u001b[0m\u001b[0;34m(\u001b[0m\u001b[0mreconstructed_frames\u001b[0m\u001b[0;34m,\u001b[0m \u001b[0mdtype\u001b[0m\u001b[0;34m=\u001b[0m\u001b[0mtf\u001b[0m\u001b[0;34m.\u001b[0m\u001b[0mint8\u001b[0m\u001b[0;34m)\u001b[0m\u001b[0;34m\u001b[0m\u001b[0;34m\u001b[0m\u001b[0m\n\u001b[1;32m     16\u001b[0m \u001b[0;34m\u001b[0m\u001b[0m\n\u001b[0;32m---> 17\u001b[0;31m \u001b[0mXhat\u001b[0m \u001b[0;34m=\u001b[0m \u001b[0mtf\u001b[0m\u001b[0;34m.\u001b[0m\u001b[0mreshape\u001b[0m\u001b[0;34m(\u001b[0m\u001b[0mtest_plrpr\u001b[0m\u001b[0;34m(\u001b[0m\u001b[0mA\u001b[0m\u001b[0;34m,\u001b[0m \u001b[0mY\u001b[0m\u001b[0;34m,\u001b[0m \u001b[0mnorms_Xast\u001b[0m\u001b[0;34m,\u001b[0m \u001b[0mR\u001b[0m \u001b[0;34m=\u001b[0m \u001b[0;36m20\u001b[0m\u001b[0;34m,\u001b[0m \u001b[0mmax_iter\u001b[0m \u001b[0;34m=\u001b[0m \u001b[0;36m10\u001b[0m\u001b[0;34m)\u001b[0m\u001b[0;34m,\u001b[0m \u001b[0;34m[\u001b[0m\u001b[0mI1\u001b[0m\u001b[0;34m,\u001b[0m \u001b[0mI2\u001b[0m\u001b[0;34m,\u001b[0m \u001b[0mq\u001b[0m\u001b[0;34m]\u001b[0m\u001b[0;34m)\u001b[0m\u001b[0;34m\u001b[0m\u001b[0;34m\u001b[0m\u001b[0m\n\u001b[0m\u001b[1;32m     18\u001b[0m \u001b[0;34m\u001b[0m\u001b[0m\n\u001b[1;32m     19\u001b[0m \u001b[0mprint\u001b[0m\u001b[0;34m(\u001b[0m\u001b[0;34mf'Reconstructed error: {tf.math.reduce_sum(tf.math.abs(Xhat - tf.cast(Xast, tf.int8)))}'\u001b[0m\u001b[0;34m)\u001b[0m\u001b[0;34m\u001b[0m\u001b[0;34m\u001b[0m\u001b[0m\n",
      "\u001b[0;32m/usr/local/lib/python3.6/dist-packages/tensorflow/python/util/dispatch.py\u001b[0m in \u001b[0;36mwrapper\u001b[0;34m(*args, **kwargs)\u001b[0m\n\u001b[1;32m    204\u001b[0m     \u001b[0;34m\"\"\"Call target, and fall back on dispatchers if there is a TypeError.\"\"\"\u001b[0m\u001b[0;34m\u001b[0m\u001b[0;34m\u001b[0m\u001b[0m\n\u001b[1;32m    205\u001b[0m     \u001b[0;32mtry\u001b[0m\u001b[0;34m:\u001b[0m\u001b[0;34m\u001b[0m\u001b[0;34m\u001b[0m\u001b[0m\n\u001b[0;32m--> 206\u001b[0;31m       \u001b[0;32mreturn\u001b[0m \u001b[0mtarget\u001b[0m\u001b[0;34m(\u001b[0m\u001b[0;34m*\u001b[0m\u001b[0margs\u001b[0m\u001b[0;34m,\u001b[0m \u001b[0;34m**\u001b[0m\u001b[0mkwargs\u001b[0m\u001b[0;34m)\u001b[0m\u001b[0;34m\u001b[0m\u001b[0;34m\u001b[0m\u001b[0m\n\u001b[0m\u001b[1;32m    207\u001b[0m     \u001b[0;32mexcept\u001b[0m \u001b[0;34m(\u001b[0m\u001b[0mTypeError\u001b[0m\u001b[0;34m,\u001b[0m \u001b[0mValueError\u001b[0m\u001b[0;34m)\u001b[0m\u001b[0;34m:\u001b[0m\u001b[0;34m\u001b[0m\u001b[0;34m\u001b[0m\u001b[0m\n\u001b[1;32m    208\u001b[0m       \u001b[0;31m# Note: convert_to_eager_tensor currently raises a ValueError, not a\u001b[0m\u001b[0;34m\u001b[0m\u001b[0;34m\u001b[0m\u001b[0;34m\u001b[0m\u001b[0m\n",
      "\u001b[0;32m/usr/local/lib/python3.6/dist-packages/tensorflow/python/ops/array_ops.py\u001b[0m in \u001b[0;36mreshape\u001b[0;34m(tensor, shape, name)\u001b[0m\n\u001b[1;32m    193\u001b[0m     \u001b[0mA\u001b[0m\u001b[0;31m \u001b[0m\u001b[0;31m`\u001b[0m\u001b[0mTensor\u001b[0m\u001b[0;31m`\u001b[0m\u001b[0;34m.\u001b[0m \u001b[0mHas\u001b[0m \u001b[0mthe\u001b[0m \u001b[0msame\u001b[0m \u001b[0mtype\u001b[0m \u001b[0;32mas\u001b[0m\u001b[0;31m \u001b[0m\u001b[0;31m`\u001b[0m\u001b[0mtensor\u001b[0m\u001b[0;31m`\u001b[0m\u001b[0;34m.\u001b[0m\u001b[0;34m\u001b[0m\u001b[0;34m\u001b[0m\u001b[0m\n\u001b[1;32m    194\u001b[0m   \"\"\"\n\u001b[0;32m--> 195\u001b[0;31m   \u001b[0mresult\u001b[0m \u001b[0;34m=\u001b[0m \u001b[0mgen_array_ops\u001b[0m\u001b[0;34m.\u001b[0m\u001b[0mreshape\u001b[0m\u001b[0;34m(\u001b[0m\u001b[0mtensor\u001b[0m\u001b[0;34m,\u001b[0m \u001b[0mshape\u001b[0m\u001b[0;34m,\u001b[0m \u001b[0mname\u001b[0m\u001b[0;34m)\u001b[0m\u001b[0;34m\u001b[0m\u001b[0;34m\u001b[0m\u001b[0m\n\u001b[0m\u001b[1;32m    196\u001b[0m   \u001b[0mtensor_util\u001b[0m\u001b[0;34m.\u001b[0m\u001b[0mmaybe_set_static_shape\u001b[0m\u001b[0;34m(\u001b[0m\u001b[0mresult\u001b[0m\u001b[0;34m,\u001b[0m \u001b[0mshape\u001b[0m\u001b[0;34m)\u001b[0m\u001b[0;34m\u001b[0m\u001b[0;34m\u001b[0m\u001b[0m\n\u001b[1;32m    197\u001b[0m   \u001b[0;32mreturn\u001b[0m \u001b[0mresult\u001b[0m\u001b[0;34m\u001b[0m\u001b[0;34m\u001b[0m\u001b[0m\n",
      "\u001b[0;32m/usr/local/lib/python3.6/dist-packages/tensorflow/python/ops/gen_array_ops.py\u001b[0m in \u001b[0;36mreshape\u001b[0;34m(tensor, shape, name)\u001b[0m\n\u001b[1;32m   8391\u001b[0m     \u001b[0;32mtry\u001b[0m\u001b[0;34m:\u001b[0m\u001b[0;34m\u001b[0m\u001b[0;34m\u001b[0m\u001b[0m\n\u001b[1;32m   8392\u001b[0m       return reshape_eager_fallback(\n\u001b[0;32m-> 8393\u001b[0;31m           tensor, shape, name=name, ctx=_ctx)\n\u001b[0m\u001b[1;32m   8394\u001b[0m     \u001b[0;32mexcept\u001b[0m \u001b[0m_core\u001b[0m\u001b[0;34m.\u001b[0m\u001b[0m_SymbolicException\u001b[0m\u001b[0;34m:\u001b[0m\u001b[0;34m\u001b[0m\u001b[0;34m\u001b[0m\u001b[0m\n\u001b[1;32m   8395\u001b[0m       \u001b[0;32mpass\u001b[0m  \u001b[0;31m# Add nodes to the TensorFlow graph.\u001b[0m\u001b[0;34m\u001b[0m\u001b[0;34m\u001b[0m\u001b[0m\n",
      "\u001b[0;32m/usr/local/lib/python3.6/dist-packages/tensorflow/python/ops/gen_array_ops.py\u001b[0m in \u001b[0;36mreshape_eager_fallback\u001b[0;34m(tensor, shape, name, ctx)\u001b[0m\n\u001b[1;32m   8416\u001b[0m   \u001b[0m_attrs\u001b[0m \u001b[0;34m=\u001b[0m \u001b[0;34m(\u001b[0m\u001b[0;34m\"T\"\u001b[0m\u001b[0;34m,\u001b[0m \u001b[0m_attr_T\u001b[0m\u001b[0;34m,\u001b[0m \u001b[0;34m\"Tshape\"\u001b[0m\u001b[0;34m,\u001b[0m \u001b[0m_attr_Tshape\u001b[0m\u001b[0;34m)\u001b[0m\u001b[0;34m\u001b[0m\u001b[0;34m\u001b[0m\u001b[0m\n\u001b[1;32m   8417\u001b[0m   _result = _execute.execute(b\"Reshape\", 1, inputs=_inputs_flat, attrs=_attrs,\n\u001b[0;32m-> 8418\u001b[0;31m                              ctx=ctx, name=name)\n\u001b[0m\u001b[1;32m   8419\u001b[0m   \u001b[0;32mif\u001b[0m \u001b[0m_execute\u001b[0m\u001b[0;34m.\u001b[0m\u001b[0mmust_record_gradient\u001b[0m\u001b[0;34m(\u001b[0m\u001b[0;34m)\u001b[0m\u001b[0;34m:\u001b[0m\u001b[0;34m\u001b[0m\u001b[0;34m\u001b[0m\u001b[0m\n\u001b[1;32m   8420\u001b[0m     _execute.record_gradient(\n",
      "\u001b[0;32m/usr/local/lib/python3.6/dist-packages/tensorflow/python/eager/execute.py\u001b[0m in \u001b[0;36mquick_execute\u001b[0;34m(op_name, num_outputs, inputs, attrs, ctx, name)\u001b[0m\n\u001b[1;32m     58\u001b[0m     \u001b[0mctx\u001b[0m\u001b[0;34m.\u001b[0m\u001b[0mensure_initialized\u001b[0m\u001b[0;34m(\u001b[0m\u001b[0;34m)\u001b[0m\u001b[0;34m\u001b[0m\u001b[0;34m\u001b[0m\u001b[0m\n\u001b[1;32m     59\u001b[0m     tensors = pywrap_tfe.TFE_Py_Execute(ctx._handle, device_name, op_name,\n\u001b[0;32m---> 60\u001b[0;31m                                         inputs, attrs, num_outputs)\n\u001b[0m\u001b[1;32m     61\u001b[0m   \u001b[0;32mexcept\u001b[0m \u001b[0mcore\u001b[0m\u001b[0;34m.\u001b[0m\u001b[0m_NotOkStatusException\u001b[0m \u001b[0;32mas\u001b[0m \u001b[0me\u001b[0m\u001b[0;34m:\u001b[0m\u001b[0;34m\u001b[0m\u001b[0;34m\u001b[0m\u001b[0m\n\u001b[1;32m     62\u001b[0m     \u001b[0;32mif\u001b[0m \u001b[0mname\u001b[0m \u001b[0;32mis\u001b[0m \u001b[0;32mnot\u001b[0m \u001b[0;32mNone\u001b[0m\u001b[0;34m:\u001b[0m\u001b[0;34m\u001b[0m\u001b[0;34m\u001b[0m\u001b[0m\n",
      "\u001b[0;31mInvalidArgumentError\u001b[0m: Input to reshape is a tensor with 0 values, but the requested shape has 675 [Op:Reshape]"
     ]
    }
   ],
   "metadata": {
    "tags": []
   }
  },
  {
   "cell_type": "code",
   "execution_count": 32,
   "source": [
    "tf.print(norm_Xast)"
   ],
   "outputs": [
    {
     "output_type": "stream",
     "name": "stdout",
     "text": [
      "array([1267.95935059, 1236.1451416 , 1379.36218262, 1370.62683105,\n",
      "       1196.58178711, 1274.48925781, 1235.36914062, 1379.56262207,\n",
      "       1372.66015625, 1197.1607666 ])\n"
     ]
    }
   ],
   "metadata": {}
  },
  {
   "cell_type": "code",
   "execution_count": 38,
   "source": [
    "tf.print(Xast)"
   ],
   "outputs": [
    {
     "output_type": "stream",
     "name": "stdout",
     "text": [
      "[[[60 71 94 ... 235 245 146]\n",
      "  [139 76 108 ... 94 114 44]\n",
      "  [16 32 41 ... 121 96 55]\n",
      "  ...\n",
      "  [57 63 71 ... 179 190 199]\n",
      "  [193 161 102 ... 94 110 52]\n",
      "  [43 105 235 ... 108 89 0]]\n",
      "\n",
      " [[59 68 94 ... 47 57 40]\n",
      "  [34 29 123 ... 93 120 0]\n",
      "  [0 0 0 ... 26 45 49]\n",
      "  ...\n",
      "  [60 71 94 ... 235 245 150]\n",
      "  [139 76 108 ... 94 114 44]\n",
      "  [14 37 48 ... 123 96 55]]\n",
      "\n",
      " [[55 64 93 ... 0 0 0]\n",
      "  [0 0 26 ... 93 121 0]\n",
      "  [0 0 0 ... 29 46 47]\n",
      "  ...\n",
      "  [59 68 94 ... 48 54 40]\n",
      "  [34 30 123 ... 93 120 0]\n",
      "  [0 0 0 ... 26 45 49]]\n",
      "\n",
      " ...\n",
      "\n",
      " [[57 65 78 ... 215 227 232]\n",
      "  [223 179 117 ... 78 84 96]\n",
      "  [118 170 204 ... 113 65 39]\n",
      "  ...\n",
      "  [37 52 77 ... 238 242 248]\n",
      "  [244 187 127 ... 78 87 95]\n",
      "  [136 162 215 ... 116 70 44]]\n",
      "\n",
      " [[60 68 78 ... 204 218 225]\n",
      "  [220 174 111 ... 71 78 83]\n",
      "  [101 148 180 ... 99 57 31]\n",
      "  ...\n",
      "  [58 65 78 ... 215 227 232]\n",
      "  [222 178 115 ... 78 84 98]\n",
      "  [119 171 205 ... 110 64 38]]\n",
      "\n",
      " [[56 61 71 ... 180 192 199]\n",
      "  [191 155 97 ... 95 68 63]\n",
      "  [20 136 242 ... 102 90 0]\n",
      "  ...\n",
      "  [60 68 78 ... 205 218 225]\n",
      "  [220 173 110 ... 71 78 83]\n",
      "  [101 149 180 ... 96 56 31]]]\n"
     ]
    }
   ],
   "metadata": {}
  },
  {
   "cell_type": "code",
   "execution_count": 21,
   "source": [
    "class TensorLRPR"
   ],
   "outputs": [
    {
     "output_type": "error",
     "ename": "SyntaxError",
     "evalue": "invalid syntax (<ipython-input-21-80ab800cc55c>, line 1)",
     "traceback": [
      "\u001b[0;36m  File \u001b[0;32m\"<ipython-input-21-80ab800cc55c>\"\u001b[0;36m, line \u001b[0;32m1\u001b[0m\n\u001b[0;31m    class TensorLRPR\u001b[0m\n\u001b[0m                    ^\u001b[0m\n\u001b[0;31mSyntaxError\u001b[0m\u001b[0;31m:\u001b[0m invalid syntax\n"
     ]
    }
   ],
   "metadata": {}
  },
  {
   "cell_type": "code",
   "execution_count": null,
   "source": [
    "class TensorUtils"
   ],
   "outputs": [],
   "metadata": {}
  },
  {
   "cell_type": "markdown",
   "source": [
    "- Initialization (Spectral, HOSVD) for CP formulation.\n",
    "- Complex measurements.\n"
   ],
   "metadata": {}
  }
 ]
}