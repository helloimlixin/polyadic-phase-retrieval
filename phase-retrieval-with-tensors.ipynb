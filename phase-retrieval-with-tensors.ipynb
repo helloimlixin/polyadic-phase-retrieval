{
 "metadata": {
  "orig_nbformat": 2,
  "kernelspec": {
   "name": "python3",
   "display_name": "Python 3.6.9 64-bit"
  },
  "interpreter": {
   "hash": "31f2aee4e71d21fbe5cf8b01ff0e069b9275f58929596ceb00d14d90e3e16cd6"
  }
 },
 "nbformat": 4,
 "nbformat_minor": 2,
 "cells": [
  {
   "source": [
    "# Computational Phase Retrieval with Tensor Methods"
   ],
   "cell_type": "markdown",
   "metadata": {}
  },
  {
   "source": [
    "## Device Information"
   ],
   "cell_type": "markdown",
   "metadata": {}
  },
  {
   "cell_type": "code",
   "execution_count": 1,
   "metadata": {},
   "outputs": [
    {
     "output_type": "stream",
     "name": "stdout",
     "text": [
      "Fri Jul  9 01:55:25 2021       \n+-----------------------------------------------------------------------------+\n| NVIDIA-SMI 460.80       Driver Version: 460.80       CUDA Version: 11.2     |\n|-------------------------------+----------------------+----------------------+\n| GPU  Name        Persistence-M| Bus-Id        Disp.A | Volatile Uncorr. ECC |\n| Fan  Temp  Perf  Pwr:Usage/Cap|         Memory-Usage | GPU-Util  Compute M. |\n|                               |                      |               MIG M. |\n|===============================+======================+======================|\n|   0  GeForce GTX 165...  Off  | 00000000:01:00.0 Off |                  N/A |\n| N/A   53C    P8     5W /  N/A |    293MiB /  3911MiB |      7%      Default |\n|                               |                      |                  N/A |\n+-------------------------------+----------------------+----------------------+\n                                                                               \n+-----------------------------------------------------------------------------+\n| Processes:                                                                  |\n|  GPU   GI   CI        PID   Type   Process name                  GPU Memory |\n|        ID   ID                                                   Usage      |\n|=============================================================================|\n+-----------------------------------------------------------------------------+\n"
     ]
    }
   ],
   "source": [
    "!nvidia-smi"
   ]
  },
  {
   "source": [
    "## Import Required Libraries"
   ],
   "cell_type": "markdown",
   "metadata": {}
  },
  {
   "source": [
    "import tensorflow as tf\n",
    "print(f\"Tensorflow version: {tf.__version__}\")\n",
    "gpus = tf.config.list_physical_devices('GPU')\n",
    "\n",
    "if gpus:\n",
    "    try:\n",
    "        print(\"Num GPUs Available: \", len(gpus))\n",
    "        for gpu in gpus:\n",
    "            # Allow memory growth for the GPU.\n",
    "            # Reference: https://www.tensorflow.org/guide/gpu\n",
    "            tf.config.experimental.set_memory_growth(gpu, True)\n",
    "        logical_gpus = tf.config.experimental.list_logical_devices('GPU')\n",
    "        print(len(gpus), \"Physical GPUs,\", len(logical_gpus), \"Logical GPUs\")\n",
    "    except RuntimeError as e:\n",
    "        # Memory growth must be set before GPUs have been initialized.\n",
    "        print(e)\n",
    "\n",
    "from matplotlib import pyplot as plt\n",
    "plt.style.use('dark_background')\n",
    "import numpy as np\n",
    "import tensorly as tl\n",
    "import cv2\n",
    "import time\n",
    "import os\n",
    "\n",
    "import matplotlib.cm as cm\n",
    "import seaborn as sns\n",
    "\n",
    "from matplotlib import rc, rcParams\n",
    "rcParams['font.family'] = 'Cubano'\n",
    "rc('text', usetex=False)"
   ],
   "cell_type": "code",
   "metadata": {},
   "execution_count": 5,
   "outputs": [
    {
     "output_type": "stream",
     "name": "stdout",
     "text": [
      "Tensorflow version: 2.5.0\nNum GPUs Available:  1\n1 Physical GPUs, 1 Logical GPUs\n"
     ]
    }
   ]
  },
  {
   "source": [
    "## GPU Benchmark\n",
    "\n",
    "Reference: https://www.tensorflow.org/guide/gpu"
   ],
   "cell_type": "markdown",
   "metadata": {}
  },
  {
   "cell_type": "code",
   "execution_count": 6,
   "metadata": {},
   "outputs": [
    {
     "output_type": "stream",
     "name": "stdout",
     "text": [
      "Elapsed time with TensorFlow GPU: 0.5843789577484131\n",
      "Elapsed time with Numpy: 18.500978231430054\n"
     ]
    }
   ],
   "source": [
    "tf.debugging.set_log_device_placement(True)\n",
    "\n",
    "n = 5000\n",
    "num_iters = 10\n",
    "\n",
    "'''\n",
    "Test with TensorFlow GPU.\n",
    "'''\n",
    "start_tf = time.time()\n",
    "\n",
    "for i in range(num_iters):\n",
    "    # Tensors are defaultly placed on the GPU (CPU would be considerably slower due\n",
    "    # to the incurred communication cost).\n",
    "    # with tf.device('/CPU:0'):\n",
    "    a = tf.ones((n, n))\n",
    "    b = tf.ones((n, n))\n",
    "\n",
    "    # Run on the GPU\n",
    "    c = tf.matmul(a, b)\n",
    "\n",
    "print(f'Elapsed time with TensorFlow GPU: {time.time() - start_tf}') # about 0.02 seconds\n",
    "\n",
    "'''\n",
    "Test with Numpy.\n",
    "'''\n",
    "start_np = time.time()\n",
    "\n",
    "for i in range(num_iters):\n",
    "    a = np.ones((n, n))\n",
    "    b = np.ones((n, n))\n",
    "\n",
    "    c = np.dot(a, b)\n",
    "\n",
    "print(f'Elapsed time with Numpy: {time.time() - start_np}') # about 15 seconds\n"
   ]
  },
  {
   "source": [
    "## Low Rank Phase Retrieval\n",
    "\n",
    "References:\n",
    "\n",
    "\\[1\\] Namrata Vaswani, Seyedehsara Nayer, Yonina C. Eldar. *Low Rank Phase Retrieval*. https://rutgers.box.com/s/dntl0sh157p62rgi1zerdaxrqthugr32\n",
    "\n",
    "\\[2\\] Namrata Vaswani. *Nonconvex Structured Phase Retrieval*. https://rutgers.box.com/s/x02w8frd1ep01cxdjlnojufa9npvstsz.\n",
    "\n",
    "\\[3\\] Tamara G. Kolda, Brett W. Bader. *Tensor Decompositions and Applications*. https://rutgers.box.com/s/aq9psx3mgwhms6rrzlhn94h56c3oshox. \n",
    "\n",
    "\n"
   ],
   "cell_type": "markdown",
   "metadata": {}
  },
  {
   "source": [
    "### Define Data Directories"
   ],
   "cell_type": "markdown",
   "metadata": {}
  },
  {
   "cell_type": "code",
   "execution_count": 17,
   "metadata": {},
   "outputs": [],
   "source": [
    "INPUT_DIR = './videos/' # directory of the test videos\n",
    "OUTPUT_DIR = './output/' # output directory\n",
    "FRAMES_DIR = './ouput/frames/' # output directory of the extracted video frames \n"
   ]
  },
  {
   "cell_type": "code",
   "execution_count": 20,
   "metadata": {},
   "outputs": [],
   "source": [
    "# Read the video.\n",
    "video_path = INPUT_DIR + os.listdir(INPUT_DIR)[0] # define video path\n",
    "cap = cv2.VideoCapture(video_path) # read the video from path\n",
    "video_name = os.listdir(INPUT_DIR)[0].split('.')[0] # get the name of the video\n",
    "\n",
    "# Creat the folder to store the extracted frames of the video.\n",
    "try:\n",
    "    if not os.path.exists(FRAMES_DIR + video_name):\n",
    "        os.makedirs(FRAMES_DIR + video_name)\n",
    "    else:\n",
    "        print('Directory already exists!')\n",
    "except OSError:\n",
    "    print('OS ERROR')\n",
    "\n",
    "k = 0 # frame number, k = 0, 1, 2, ..., q - 1\n",
    "while (True):\n",
    "    # Capture the video frame-by-frame.\n",
    "    # Code adopted: https://docs.opencv.org/3.4/dd/d43\n",
    "    # # tutorial_py_video_display.html\n",
    "    ret, frame = cap.read()\n",
    "\n",
    "    # If the frame is read correctly the return boolean (ret) is true.\n",
    "    if not ret:\n",
    "        print(\"Cannot receive frame (probably end of stream). Exiting...\")\n",
    "        break\n",
    "    else:\n",
    "        # Convert the frame to grayscale.\n",
    "        # grayscale = cv.cvtColor(frame, cv.COLOR_BGR2GRAY)\n",
    "        name = FRAMES_DIR + cap + f'/frame-{k}.jpg'\n",
    "        print('DEBUG: Captured...' + name)\n",
    "        cv2.imwrite(name, frame)\n",
    "        k += 1\n",
    "\n",
    "# Release the capture when finished.\n",
    "cap.release()\n",
    "cv2.destroyAllWindows()"
   ]
  },
  {
   "cell_type": "code",
   "execution_count": null,
   "metadata": {},
   "outputs": [],
   "source": []
  }
 ]
}